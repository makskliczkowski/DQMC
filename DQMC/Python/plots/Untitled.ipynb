{
 "cells": [
  {
   "cell_type": "markdown",
   "id": "d9e3ff02-b996-48b8-a9a6-c34360cfe576",
   "metadata": {},
   "source": [
    "# JUPYTER FOR PYTHON PLOTS\n",
    "____________________________"
   ]
  },
  {
   "cell_type": "code",
   "execution_count": 60,
   "id": "8f780f0e-7a35-4f16-8b9b-32a04b96229f",
   "metadata": {},
   "outputs": [],
   "source": [
    "# standard\n",
    "from pathlib import Path\n",
    "import numpy as np\n",
    "import pandas as pd\n",
    "import matplotlib.pyplot as plt\n",
    "import seaborn as sns\n",
    "import itertools\n",
    "import math\n",
    "import os\n",
    "import random\n",
    "import ntpath\n",
    "ntpath.realpath = ntpath.abspath\n",
    "%matplotlib inline"
   ]
  },
  {
   "cell_type": "code",
   "execution_count": 34,
   "id": "88656c75-0580-4d05-aeb6-6bbba4bc9f9a",
   "metadata": {},
   "outputs": [
    {
     "name": "stdout",
     "output_type": "stream",
     "text": [
      "D:\\Uni\\SEMESTERS\\PRACE\\CONDENSED_GROUP_CLOUD_UNI\\DQMC\\DQMC\\Python\\plots\n"
     ]
    }
   ],
   "source": [
    "markers = itertools.cycle(['o','s','v', ',', '+', '.', 'o', '*'])\n",
    "colors = itertools.cycle(sns.color_palette())\n",
    "kPSep = os.sep\n",
    "directory_path = os.getcwd()\n",
    "print(directory_path)\n",
    "resultsFolder = \"..\"+kPSep + \"..\" + kPSep"
   ]
  },
  {
   "cell_type": "markdown",
   "id": "2429bb6a-ee05-47ed-b5a5-49a7558d2dc3",
   "metadata": {
    "jp-MarkdownHeadingCollapsed": true,
    "tags": []
   },
   "source": [
    "### HUBBARD CLASS "
   ]
  },
  {
   "cell_type": "code",
   "execution_count": 28,
   "id": "ff2e9207-7960-4b27-b3f0-c0f8fe5b5935",
   "metadata": {
    "tags": []
   },
   "outputs": [],
   "source": [
    "class HubbardDQMC:\n",
    "    N = 1\n",
    "    M = 1\n",
    "    def __init__(self, M, M_0, U, mu, beta, lattice_type, Lx, Ly, Lz = 1, dim = 2):\n",
    "        self.M = M\n",
    "        self.M_0 = M_0\n",
    "        self.dtau = beta/M\n",
    "        self.lambd = math.acosh(math.exp((abs(U) * self.dtau) * 0.5));\n",
    "        # physical\n",
    "        self.beta = beta\n",
    "        self.T = 1.0/beta\n",
    "        self.U = U\n",
    "        self.mu = mu\n",
    "        # lattice\n",
    "        self.lat_type = lattice_type\n",
    "        self.dim = dim\n",
    "        self.Lx = Lx\n",
    "        self.Ly = Ly\n",
    "        self.Lz = Lz\n",
    "        self.N = Lx*Ly*Lz\n",
    "        self.directory = \"results\" + kPSep \n",
    "        \n",
    "    def getInfo(self):\n",
    "        return \"M=\" + str(self.M) + \",M0=\" + str(self.M_0) + \\\n",
    "\t\t\",dtau=\" + str(self.dtau) + \",Lx=\" + str(self.Lx) + \\\n",
    "\t\t\",Ly=\" + str(self.Ly) + \",Lz=\" + str(self.Lz) + \\\n",
    "\t\t\",beta=\" + str(self.beta) + \",U=\" + str(self.U) + \\\n",
    "\t\t\",mu=\" + str(self.mu);\n",
    "    \n",
    "    def getDirectory(self):\n",
    "        LxLyLz = \"Lx=\" + str(self.Lx) + \",Ly=\" + str(self.Ly) + \",Lz=\" + str(self.Lz)        \n",
    "        return self.directory + self.lat_type + kPSep + str(self.dim) + \"D\" + kPSep + LxLyLz + kPSep"
   ]
  },
  {
   "cell_type": "markdown",
   "id": "1ae427f6-a1d4-4f89-a303-41e3a64699a5",
   "metadata": {},
   "source": []
  },
  {
   "cell_type": "markdown",
   "id": "869052cf-99c2-464c-8479-9485bd20b27a",
   "metadata": {},
   "source": []
  },
  {
   "cell_type": "markdown",
   "id": "2f1e6e07-0c81-46fd-bb18-878be282620a",
   "metadata": {},
   "source": [
    "### TIME DISPLACED GREENS"
   ]
  },
  {
   "cell_type": "code",
   "execution_count": 62,
   "id": "ee35de59-7691-4812-899a-59d0a55e3dbf",
   "metadata": {},
   "outputs": [],
   "source": [
    "def parseG_elems(line, nextline = \"\"):\n",
    "    positions = \"G(nx,ny,ti)\"\n",
    "    \n",
    "    if line.lstrip().startswith(positions):\n",
    "        tmp = nextline.split(\"\\t\")\n",
    "        return (\"r\",int(tmp[1]),int(tmp[3]))\n",
    "    else:\n",
    "        tmp = line.split(\"\\t\")\n",
    "        return (int(tmp[0]), float(tmp[1]), float(tmp[3]))\n",
    "\n",
    "def readTimeDisplacedGreens(directory, M, number : str):\n",
    "    pos_df = pd.DataFrame()\n",
    "    pos_err_df =  pd.DataFrame()\n",
    "    neg_df =  pd.DataFrame()\n",
    "    neg_err_df =  pd.DataFrame()\n",
    "\n",
    "    for filename in filter(lambda x: x.startswith(str(number)), os.listdir(directory)):\n",
    "        print(directory + filename)\n",
    "        with open(directory + filename, 'r') as f:\n",
    "            # skip header\n",
    "            for _ in range(33):\n",
    "                next(f)\n",
    "            # read lines\n",
    "            for line in f:\n",
    "                (dec,x,y) = parseG_elems(line, next(f))\n",
    "                if dec == 'r':\n",
    "                    tmp_col = (x,y)\n",
    "                    tmp_arr = []\n",
    "                    tmp_arr_err = []\n",
    "                    for i in range(M):\n",
    "                        (tau, val, err) = parseG_elems(next(f))\n",
    "                        tmp_arr.append(val)\n",
    "                        tmp_arr_err.append(err)\n",
    "\n",
    "                    if \"up\" in filename:\n",
    "                        pos_df[(tmp_col)] = np.array(tmp_arr)\n",
    "                        pos_err_df[(tmp_col)] = np.array(tmp_arr_err)\n",
    "                    else:\n",
    "                        neg_df[(tmp_col)] = np.array(tmp_arr)\n",
    "                        neg_err_df[(tmp_col)] = np.array(tmp_arr_err)\n",
    "                \n",
    "        f.close()\n",
    "    return (pos_df, pos_err_df, neg_df, neg_err_df)\n",
    "\n",
    "os.chdir( resultsFolder )\n",
    "a = readTimeDisplacedGreens(\"results\\\\square\\\\2D\\\\Lx=8,Ly=8,Lz=1\\\\greens\\\\M=40,M0=8,dtau=0.05,Lx=8,Ly=8,Lz=1,beta=2.0,U=8.0,mu=0.0\\\\times\\\\\", 40, \"10-\")\n",
    "a[2]"
   ]
  },
  {
   "cell_type": "markdown",
   "id": "b05ff9cd-aaac-414d-9d80-cfc3bf5e85b0",
   "metadata": {},
   "source": [
    "### AVERAGE"
   ]
  },
  {
   "cell_type": "code",
   "execution_count": null,
   "id": "f8645787-4572-4747-9c3f-7e7ca76b8714",
   "metadata": {},
   "outputs": [],
   "source": [
    "def averageTimeDisplacedGreens(directory, "
   ]
  },
  {
   "cell_type": "code",
   "execution_count": null,
   "id": "dc6c862a-579d-4606-b049-0a808e0b3f53",
   "metadata": {},
   "outputs": [],
   "source": []
  },
  {
   "cell_type": "code",
   "execution_count": 59,
   "id": "2ed08159-884f-42aa-b4d1-56d0f25b878c",
   "metadata": {},
   "outputs": [],
   "source": [
    "def plotTimeDisplacedGreens(directory, x, y):\n",
    "    fig, ax = plt.subplots(4,2,figsize = (16,26))\n",
    "    up = np.loadtxt(folder + \"up.txt\")\n",
    "    down = np.loadtxt(folder + \"down.txt\")\n",
    "    up_k = np.loadtxt(folder + \"up_k.txt\")\n",
    "    down_k = np.loadtxt(folder + \"down_k.txt\")\n",
    "    up_k = up_k * (2*np.pi) / Lx\n",
    "    down_k = down_k *(2*np.pi) / Lx\n",
    "\n",
    "    their = np.loadtxt(folder + \"their.txt\")\n",
    "    their_k = np.loadtxt(folder + \"their_k.txt\")\n",
    "\n",
    "    both = (down + up)*0.5\n",
    "    both_k = (down_k + up_k)*0.5\n",
    "\n",
    "    diff = np.abs(their - both)\n",
    "    diff_k = np.abs(their_k - both_k)\n",
    "\n",
    "    fig.suptitle(\"Comparison of time displaced Green's functions for $\\mu$ = -4, number of bucket averages $N_A$ = 50\", va = \"center\", y = 0.9)\n",
    "\n",
    "    ax[0][0].plot(up, label = \"$\\sigma$ = ↑\")\n",
    "    ax[0][0].plot(down, label = \"$\\sigma = $↓\")\n",
    "    ax[0][1].plot(up_k, label = \"$\\sigma$ = ↑\")\n",
    "    ax[0][1].plot(down_k, label = \"$\\sigma = $↓\")\n",
    "    ax[1][0].plot(both)\n",
    "    ax[1][1].plot(both_k)\n",
    "    ax[2][0].plot(their)\n",
    "    ax[2][1].plot(their_k)\n",
    "    ax[3][0].plot(diff)\n",
    "    ax[3][1].plot(diff_k)\n",
    "\n",
    "\n",
    "    ax[0][0].legend()\n",
    "    ax[0][1].legend()\n",
    "\n",
    "    ax[0][0].set_xlabel(\"τ/dτ\")\n",
    "    ax[0][1].set_xlabel(\"τ/dτ\")\n",
    "    ax[1][0].set_xlabel(\"τ/dτ\")\n",
    "    ax[1][1].set_xlabel(\"τ/dτ\")\n",
    "    ax[2][0].set_xlabel(\"τ/dτ\")\n",
    "    ax[2][1].set_xlabel(\"τ/dτ\")\n",
    "    ax[3][0].set_xlabel(\"τ/dτ\")\n",
    "    ax[3][1].set_xlabel(\"τ/dτ\")\n",
    "\n",
    "    ax[0][0].set_ylabel(\"$G_σ$([0,0],τ/dτ)\")\n",
    "    ax[0][1].set_ylabel(\"$G_{kσ}$([0,0],τ/dτ)\")\n",
    "    ax[1][0].set_ylabel(\"$G_σ$([0,0],τ/dτ)\")\n",
    "    ax[1][1].set_ylabel(\"$G_{kσ}$([0,0],τ/dτ)\")\n",
    "    ax[2][0].set_ylabel(\"$G_σ$([0,0],τ/dτ)\")\n",
    "    ax[2][1].set_ylabel(\"$G_{kσ}$([0,0],τ/dτ)\")\n",
    "    ax[3][0].set_ylabel(\"$G_σ$([0,0],τ/dτ)\")\n",
    "    ax[3][1].set_ylabel(\"$G_{kσ}$([0,0],τ/dτ)\")\n",
    "\n",
    "    ax[0][0].set_title(\"G([0,0],τ) for ↑ and ↓ spin channels\")\n",
    "    ax[0][1].set_title(\"$G_k$([$k_x$=0,$k_y$=0],τ) for ↑ and ↓ spin channels\")\n",
    "    ax[1][0].set_title(\"Average G([0,0],τ) of both spin channels\")\n",
    "    ax[1][1].set_title(\"Average $G_k$([$k_x$=0,$k_y$=0],τ) of both spin channels\")\n",
    "    ax[2][0].set_title(\"G([0,0],τ) from US\")\n",
    "    ax[2][1].set_title(\"$G_k$([$k_x$=0,$k_y$=0],τ) from US\")\n",
    "    ax[3][0].set_title(\"Difference of US and my data : G([0,0],τ)\")\n",
    "    ax[3][1].set_title(\"Difference of US and my data : $G_k$([$k_x$=0,$k_y$=0],τ)\")\n",
    "\n",
    "    ax[3][0].set_yscale(\"log\")\n",
    "    ax[3][1].set_yscale(\"log\")\n",
    "\n",
    "    ax[0][0].set_xlim(0,39)\n",
    "    ax[0][1].set_xlim(0,39)\n",
    "    ax[1][0].set_xlim(0,39)\n",
    "    ax[1][1].set_xlim(0,39)\n",
    "    ax[2][0].set_xlim(0,39)\n",
    "    ax[2][1].set_xlim(0,39)\n",
    "    ax[3][0].set_xlim(0,39)\n",
    "    ax[3][1].set_xlim(0,39)\n",
    "\n",
    "    ax[0][0].set_ylim(-1,0)\n",
    "    ax[0][1].set_ylim(-1,0)\n",
    "    ax[1][0].set_ylim(-1,0)\n",
    "    ax[1][1].set_ylim(-1,0)\n",
    "    ax[2][0].set_ylim(-1,0)\n",
    "    ax[2][1].set_ylim(-1,0)\n",
    "    ax[3][0].set_ylim(1e-3,8e-2)\n",
    "    ax[3][1].set_ylim(1e-2,5e-2)\n",
    "\n",
    "    plt.savefig(folder+\"greens_mu=-4,Na=50.pdf\")"
   ]
  },
  {
   "cell_type": "code",
   "execution_count": null,
   "id": "0d4aeb95-9caf-4bf5-a338-31be6de7fffa",
   "metadata": {},
   "outputs": [],
   "source": []
  }
 ],
 "metadata": {
  "kernelspec": {
   "display_name": "Python 3 (ipykernel)",
   "language": "python",
   "name": "python3"
  },
  "language_info": {
   "codemirror_mode": {
    "name": "ipython",
    "version": 3
   },
   "file_extension": ".py",
   "mimetype": "text/x-python",
   "name": "python",
   "nbconvert_exporter": "python",
   "pygments_lexer": "ipython3",
   "version": "3.8.12"
  }
 },
 "nbformat": 4,
 "nbformat_minor": 5
}
