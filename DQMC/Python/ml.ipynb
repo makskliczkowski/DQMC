{
 "cells": [
  {
   "cell_type": "markdown",
   "id": "a5b270d6-b6c0-45e6-9ad1-442a3e45df74",
   "metadata": {},
   "source": [
    "This is the notebook that includes the procedures for machine learning to be used in the Determinant Quantum Monte Carlo simulation"
   ]
  },
  {
   "cell_type": "markdown",
   "id": "832a5097-73e7-46a3-9068-b2a15931dfef",
   "metadata": {},
   "source": [
    "# MACHINE LEARNING IMPORTS\n",
    "--------------------"
   ]
  },
  {
   "cell_type": "code",
   "execution_count": 2,
   "id": "d8e70fb6-cf9d-44e1-b1d5-8e4440588f5f",
   "metadata": {},
   "outputs": [],
   "source": [
    "# standard\n",
    "from pathlib import Path\n",
    "import numpy as np\n",
    "import pandas as pd\n",
    "import matplotlib.pyplot as plt\n",
    "import seaborn as sns\n",
    "import itertools\n",
    "import math\n",
    "import os\n",
    "import random\n",
    "%matplotlib inline\n"
   ]
  },
  {
   "cell_type": "code",
   "execution_count": 1,
   "id": "38897a45-7ab1-424a-9d3c-79112904a5f3",
   "metadata": {
    "tags": []
   },
   "outputs": [
    {
     "name": "stdout",
     "output_type": "stream",
     "text": [
      "[name: \"/device:CPU:0\"\n",
      "device_type: \"CPU\"\n",
      "memory_limit: 268435456\n",
      "locality {\n",
      "}\n",
      "incarnation: 16306246179985105487\n",
      ", name: \"/device:GPU:0\"\n",
      "device_type: \"GPU\"\n",
      "memory_limit: 5060693856\n",
      "locality {\n",
      "  bus_id: 1\n",
      "  links {\n",
      "  }\n",
      "}\n",
      "incarnation: 5759429513790619570\n",
      "physical_device_desc: \"device: 0, name: NVIDIA GeForce GTX 1060, pci bus id: 0000:01:00.0, compute capability: 6.1\"\n",
      "]\n"
     ]
    }
   ],
   "source": [
    "# import keras\n",
    "from keras.models import Sequential\n",
    "from keras.layers import Conv2D, MaxPooling2D, GlobalMaxPooling2D, BatchNormalization, Activation, Dropout, Flatten, Dense, GlobalAveragePooling2D, AveragePooling2D\n",
    "from keras.preprocessing.image import ImageDataGenerator\n",
    "from keras.optimizers import SGD, Adam\n",
    "from keras.metrics import MeanAbsoluteError, MeanAbsolutePercentageError, MeanSquaredError\n",
    "from keras.callbacks import History\n",
    "from keras import callbacks\n",
    "from keras import losses\n",
    "from keras import Input, Model\n",
    "from keras import regularizers\n",
    "from keras import initializers, optimizers\n",
    "from plot_keras_history import plot_history\n",
    "from tqdm.keras import TqdmCallback\n",
    "\n",
    "# tensorflow\n",
    "import tensorflow as tf\n",
    "from tensorflow.python.client import device_lib\n",
    "from tensorflow.keras.utils import plot_model\n",
    "from tensorflow import keras\n",
    "from tensorflow.keras import layers\n",
    "from tensorflow.keras.layers.experimental.preprocessing import RandomFlip, RandomRotation, Rescaling\n",
    "print(device_lib.list_local_devices())\n",
    "\n",
    "from sklearn.metrics import mean_squared_error, mean_absolute_error\n",
    "from sklearn.metrics import roc_curve\n",
    "from sklearn.metrics import auc"
   ]
  },
  {
   "cell_type": "markdown",
   "id": "43965195-37ed-4bba-804f-b37c8eb43390",
   "metadata": {},
   "source": [
    "# DEFINITIONS "
   ]
  },
  {
   "cell_type": "code",
   "execution_count": 3,
   "id": "84e7c744-8121-4950-bb41-229ed56d32bb",
   "metadata": {},
   "outputs": [
    {
     "name": "stdout",
     "output_type": "stream",
     "text": [
      "results folder :  D:\\Uni\\SEMESTERS\\PRACE\\CONDENSED_GROUP_CLOUD_UNI\\DQMC\\DQMC\n",
      "directory path :  D:\\Uni\\SEMESTERS\\PRACE\\CONDENSED_GROUP_CLOUD_UNI\\DQMC\\DQMC\\Python\\ml\n"
     ]
    }
   ],
   "source": [
    "markers = itertools.cycle(['o','s','v', ',', '+', '.', 'o', '*'])\n",
    "TWOPI = math.pi * 2\n",
    "colors_ls = list(mcolors.TABLEAU_COLORS)[:30]\n",
    "colors = itertools.cycle(sns.color_palette())\n",
    "TWOPI = math.pi * 2\n",
    "\n",
    "\n",
    "kPSep = os.sep\n",
    "\n",
    "resultsFolder = f'D:{kPSep}Uni{kPSep}SEMESTERS{kPSep}PRACE{kPSep}CONDENSED_GROUP_CLOUD_UNI{kPSep}DQMC{kPSep}DQMC'\n",
    "print(\"results folder : \", resultsFolder)\n",
    "directory_path = os.getcwd()\n",
    "print(\"directory path : \", directory_path)"
   ]
  },
  {
   "cell_type": "markdown",
   "id": "d391e244-a0e4-40cc-a3f0-9e7129b27171",
   "metadata": {
    "tags": []
   },
   "source": [
    "------------------\n",
    "# OTHERS\n",
    "______________________"
   ]
  },
  {
   "cell_type": "markdown",
   "id": "20c7a41b-220c-4558-a2b5-2f44244b3283",
   "metadata": {},
   "source": [
    "Check if the directories from the list are existing and if not create them"
   ]
  },
  {
   "cell_type": "code",
   "execution_count": 4,
   "id": "73a3900b-d2d0-473e-a8ec-d0453f127755",
   "metadata": {
    "tags": []
   },
   "outputs": [],
   "source": [
    "def createFolder(directories):\n",
    "    for folder in directories:\n",
    "        try:\n",
    "            if not os.path.isdir(folder):\n",
    "                os.makedirs(folder)\n",
    "                print(\"Created a directory : \", folder)\n",
    "        except OSError:\n",
    "            print(\"Creation of the directory %s failed\" % folder)      \n",
    "# Guard against race condition\n",
    "        except OSError as exc: \n",
    "            if exc.errno != errno.EEXIST:\n",
    "                raise"
   ]
  },
  {
   "cell_type": "code",
   "execution_count": 5,
   "id": "960b21c5-baa4-43ec-9ced-9709852de81d",
   "metadata": {
    "tags": []
   },
   "outputs": [],
   "source": [
    "dat = lambda x : x.endswith('.dat')\n",
    "def readRandomFile(folder, cond, withoutFolder = False):\n",
    "    choice = random.choice(os.listdir(folder))\n",
    "    #print(choice)\n",
    "    maxlen = len(os.listdir(folder))\n",
    "    counter = 0\n",
    "    while not cond(choice):\n",
    "        choice = random.choice(os.listdir(folder))\n",
    "        if counter > maxlen:\n",
    "            raise\n",
    "        counter += 1\n",
    "    if withoutFolder:\n",
    "        return choice\n",
    "    else:\n",
    "        return folder + choice"
   ]
  },
  {
   "cell_type": "code",
   "execution_count": 6,
   "id": "f4f62dac-a509-4829-ab82-c190d88e2e4e",
   "metadata": {
    "tags": []
   },
   "outputs": [],
   "source": [
    "def justPrinter(file,sep=\"\\t\", elements =[], width = 8, endline = True):\n",
    "    for item in elements:\n",
    "        file.write((str(item) + sep).ljust(width))\n",
    "    if endline:\n",
    "        file.write(\"\\n\")"
   ]
  },
  {
   "cell_type": "code",
   "execution_count": 7,
   "id": "1fed00b7-6a51-4ec8-9571-3a47479c012b",
   "metadata": {
    "tags": []
   },
   "outputs": [],
   "source": [
    "def averageColsFromFolder(folder, avNum, tmp, cols, which_col):\n",
    "    \n",
    "    tmp_squared = tmp * tmp\n",
    "    for i in range(avNum - 1):\n",
    "        choice = readRandomFile(folder, dat, withoutFolder = True)  \n",
    "        a = np.array(pd.read_csv(folder + choice,header = None, names = cols,\\\n",
    "                                 index_col = 0, sep = '\\t', encoding = 'utf-8')[which_col])\n",
    "        tmp += a\n",
    "        tmp_squared += a * a \n",
    "    tmp /= avNum\n",
    "    tmp_squared /= avNum\n",
    "    tmp_squared = np.sqrt(-np.power(tmp, 2) + tmp_squared)\n",
    "    # return average and std\n",
    "    return tmp_squared"
   ]
  },
  {
   "cell_type": "markdown",
   "id": "e0c30ebb-3823-4846-bb1c-5cf2b6d28f35",
   "metadata": {
    "tags": []
   },
   "source": [
    "----------------------------\n",
    "# CLASSES CONTAINING ALL INFO ABOUT MODELS"
   ]
  },
  {
   "cell_type": "markdown",
   "id": "74e37e5c-413a-4bc3-bc38-9bb06c4f1ddf",
   "metadata": {
    "tags": []
   },
   "source": [
    "The HubbardQR model that directly corresponds to the model in the C++ simulation"
   ]
  },
  {
   "cell_type": "code",
   "execution_count": 8,
   "id": "14377e16-05d3-4192-a5a2-5ef8aea8c487",
   "metadata": {
    "tags": []
   },
   "outputs": [],
   "source": [
    "class HubbardDQMC:\n",
    "    N = 1\n",
    "    M = 1\n",
    "    def __init__(self, M, M_0, U, mu, beta, lattice_type, Lx, Ly, Lz = 1, dim = 2):\n",
    "        self.M = M\n",
    "        self.M_0 = M_0\n",
    "        self.dtau = beta/M\n",
    "        self.lambd = math.acosh(math.exp((abs(U) * self.dtau) * 0.5));\n",
    "        # physical\n",
    "        self.beta = beta\n",
    "        self.T = 1.0/beta\n",
    "        self.U = U\n",
    "        self.mu = mu\n",
    "        # lattice\n",
    "        self.lat_type = lattice_type\n",
    "        self.dim = dim\n",
    "        self.Lx = Lx\n",
    "        self.Ly = Ly\n",
    "        self.Lz = Lz\n",
    "        self.N = Lx*Ly*Lz\n",
    "        self.directory = \"results\" + kPSep \n",
    "        \n",
    "    def getInfo(self):\n",
    "        return f'M={self.M},M0={self.M_0},dtau={self.dtau:.2f},Lx={self.Lx},Ly={self.Ly},Lz={self.Lz},beta={self.beta:.2f},U={self.U:.2f},mu={self.mu:.2f}' \n",
    "\n",
    "    \n",
    "    def getDirectory(self):\n",
    "        LxLyLz = f'Lx={self.Lx},Ly={self.Ly},Lz={self.Lz}'       \n",
    "        return self.directory + self.lat_type + kPSep + str(self.dim) + \"D\" + kPSep + LxLyLz + kPSep\n",
    "    \n",
    "    def makeRandomConfig(self):\n",
    "        return np.random.randint(2,size=(self.N, self.M, 1))"
   ]
  },
  {
   "cell_type": "markdown",
   "id": "db26ecd4-0f88-43d5-ae4d-5526b8d7b7ac",
   "metadata": {
    "tags": []
   },
   "source": [
    "------------------\n",
    "# IMAGES\n",
    "______________________"
   ]
  },
  {
   "cell_type": "code",
   "execution_count": 9,
   "id": "d7bbba1a-7519-4948-88b1-f8e2ef1b8046",
   "metadata": {
    "tags": []
   },
   "outputs": [],
   "source": [
    "from PIL import Image\n",
    "from shutil import copyfile"
   ]
  },
  {
   "cell_type": "markdown",
   "id": "b8132e7c-1213-4f77-8de4-5f37e86b7620",
   "metadata": {
    "tags": []
   },
   "source": [
    "### CREATE IMAGES FROM CONFIGURATIONS SAVED TO A FILE"
   ]
  },
  {
   "cell_type": "code",
   "execution_count": 10,
   "id": "5bd9ef3d-736c-4963-9bf7-8032537e0794",
   "metadata": {
    "tags": []
   },
   "outputs": [],
   "source": [
    "# conditions\n",
    "config_cond = lambda x: x.endswith(\".dat\") and (x.startswith(\"neg_\") or x.startswith(\"pos_\"))\n",
    "\n",
    "# functions\n",
    "def imgFromConfig(directory,savedir=\".\"+kPSep, lines=False, cond = lambda x : x, deleteFile = False, silent = False):\n",
    "    createFolder([savedir], silent)\n",
    "    for filename in filter(cond, os.listdir(directory)):\n",
    "        # read data\n",
    "        imArray = np.loadtxt(directory + filename)\n",
    "        # check if we have only one row\n",
    "        if imArray.ndim == 1:\n",
    "            imArray = np.array([ar])\n",
    "        # plot with axes\n",
    "        if lines:\n",
    "            x, y = np.linspace(0, len(ar[0]) - 1, len(ar[0])), np.linspace(0, len(ar) - 1, len(ar))\n",
    "            plt.gca().set_xticks(x)\n",
    "            plt.gca().set_xticklabels([str(i) if i % 10 == 0 else '' for i in x], rotation=90)\n",
    "            plt.gca().set_yticks(y)\n",
    "            plt.gca().set_yticklabels([str(i) if i % 10 == 0 else '' for i in y], rotation=45)\n",
    "            plt.imshow(imArray, interpolation='none')\n",
    "            plt.savefig(saveFolder + filename[:-4] + '.png')\n",
    "        else:\n",
    "            image = Image.fromarray(np.uint8(imArray * 255), \"L\") # .convert('RGB').resize(max_size, resample=Image.BOX)\n",
    "            image.save(savedir + filename[:-4] + '.png')\n",
    "        if deleteFile:\n",
    "            os.remove(directory + filename)"
   ]
  },
  {
   "cell_type": "markdown",
   "id": "772959e9-368f-4746-9568-1a9a833f0f02",
   "metadata": {
    "jp-MarkdownHeadingCollapsed": true,
    "tags": []
   },
   "source": [
    "--------\n",
    "# HELPERS\n",
    "------"
   ]
  },
  {
   "cell_type": "markdown",
   "id": "e4d830f5-b74a-415f-a0c2-43a2caa1d39b",
   "metadata": {
    "tags": []
   },
   "source": [
    "### SHUFFLE TO FILES TO DIFFERENT DIRECTORIES FOR TEST, VALIDATION AND TRAINING\n",
    "Here we will create the directories that will contain the filles according to specified category and will be shuffled to val, test and val folders"
   ]
  },
  {
   "cell_type": "code",
   "execution_count": 11,
   "id": "cb45ed14-fc79-467b-8d7a-15f933bd49d5",
   "metadata": {
    "tags": []
   },
   "outputs": [],
   "source": [
    "def split_data(SOURCE, TRAINING, VALIDATION, TESTING, train_siz, val_siz, silent = False):\n",
    "    files = []\n",
    "    # list files\n",
    "    for filename in os.listdir(SOURCE):\n",
    "        file = SOURCE + kPSep + filename\n",
    "        if os.path.getsize(file) > 0:\n",
    "            files.append(filename)\n",
    "        else:\n",
    "            print(filename + \" is zero length, so ignoring this bud.\")\n",
    "\n",
    "    training_length = int(len(files) * train_siz)\n",
    "    validation_length = int(len(files) * val_siz + 1)\n",
    "    testing_length = int(len(files) - training_length - validation_length)\n",
    "    \n",
    "    if not silent:\n",
    "        print('SOURCE: ', SOURCE, '\\n TRAINING', TRAINING, '\\n VALIDATION', VALIDATION, '\\n ', len(files))\n",
    "        print('training_length:', training_length)\n",
    "        print('validation_length:', validation_length)\n",
    "        print('testing_length:', testing_length)\n",
    "\n",
    "    shuffled_set = random.sample(files, len(files))\n",
    "    training_set = shuffled_set[0:training_length]\n",
    "    validation_set = shuffled_set[training_length:(training_length + validation_length)]\n",
    "    testing_set = shuffled_set[training_length + validation_length:-1]\n",
    "\n",
    "    # TRAIN\n",
    "    for filename in training_set:\n",
    "        this_file = SOURCE + kPSep + filename\n",
    "        destination = TRAINING + kPSep + filename\n",
    "        Path(this_file).rename(destination)\n",
    "\n",
    "    # VAL\n",
    "    for filename in validation_set:\n",
    "        this_file = SOURCE + kPSep + filename\n",
    "        destination = VALIDATION + kPSep + filename\n",
    "        Path(this_file).rename(destination)\n",
    "    # TEST\n",
    "    for filename in testing_set:\n",
    "        this_file = SOURCE + kPSep + filename\n",
    "        destination = TESTING + kPSep + filename\n",
    "        Path(this_file).rename(destination)\n",
    "\n"
   ]
  },
  {
   "cell_type": "code",
   "execution_count": 12,
   "id": "dd9fd79f-421f-43c2-b3a0-8b8706c8fca9",
   "metadata": {
    "tags": []
   },
   "outputs": [],
   "source": [
    "def shuffleToTestValidTrain(directory, train_size, val_size, classes = [''], removeFolders = False, silent = False):\n",
    "    # path to the source files\n",
    "    source_path = [directory + a for a in classes]\n",
    "    # set TRAIN VALIDATION AND TEST FOLDERS\n",
    "    TRAIN_VAL_TEST = ['train', 'val', 'testing']\n",
    "    TRAIN_VAL_TEST = [directory + a + kPSep for a in TRAIN_VAL_TEST]\n",
    "    createFolder(TRAIN_VAL_TEST)\n",
    "    # set folders with classes\n",
    "    train_path = [TRAIN_VAL_TEST[0] + a  for a in classes]\n",
    "    val_path = [TRAIN_VAL_TEST[1] + a  for a in classes]\n",
    "    test_path = [TRAIN_VAL_TEST[2] + a  for a in classes]\n",
    "    createFolder(train_path + val_path + test_path)  \n",
    "    # TRY TO SPLIT FILES\n",
    "    if not silent:\n",
    "        print('\\tSPLITTING DATA')\n",
    "    for source, train_dir_path, val_dir_path, test_dir_path in zip(source_path, train_path, val_path, test_path):\n",
    "        split_data(source, train_dir_path, val_dir_path, test_dir_path, train_size, val_size)\n",
    "    if removeFolders:\n",
    "        for folder in source_path:\n",
    "            os.rmdir(folder)\n"
   ]
  },
  {
   "cell_type": "markdown",
   "id": "cb48c135-584a-41ce-a5cf-e333778f231c",
   "metadata": {
    "tags": []
   },
   "source": [
    "-------------------\n",
    "# NETWORKS \n",
    "--------------------"
   ]
  },
  {
   "cell_type": "markdown",
   "id": "7c546fb5-c521-46c0-b4c4-4200f28faa96",
   "metadata": {
    "jp-MarkdownHeadingCollapsed": true,
    "tags": []
   },
   "source": [
    "\n",
    "### 2D CONVOLUTION\n",
    "--------\n",
    "Below the network for 2d convolion is created, the files are taken from directories, that are split up before"
   ]
  },
  {
   "cell_type": "code",
   "execution_count": 13,
   "id": "13841435-fdac-4e41-90d1-02f3894a11f5",
   "metadata": {
    "tags": []
   },
   "outputs": [],
   "source": [
    "def createModel2D_CONV(directory, width, height, epo=4, batch=10,categories=[], color = \"grayscale\"):\n",
    "    DATASET_LOCATION = directory\n",
    "    BATCH_SIZE = batch\n",
    "    IMAGE_SIZE = (width, height)\n",
    "    SHAPE = (width, height, 1)\n",
    "    EPOCHS = epo\n",
    "    train = directory + \"train\" + kPSep\n",
    "    val = directory + \"val\"+kPSep\n",
    "    test = directory + \"testing\" + kPSep\n",
    "\n",
    "    \n",
    "    train_dataset =  tf.keras.preprocessing.image_dataset_from_directory(\n",
    "        directory = train,\n",
    "        class_names = categories,\n",
    "        color_mode = color,\n",
    "        validation_split = 0,\n",
    "        seed=1337,\n",
    "        image_size=IMAGE_SIZE,\n",
    "        batch_size=BATCH_SIZE,\n",
    "    )\n",
    "    val_dataset = tf.keras.preprocessing.image_dataset_from_directory(\n",
    "        directory = val,\n",
    "        class_names = categories,\n",
    "        color_mode = color,\n",
    "        validation_split = 0,\n",
    "        seed=1337,\n",
    "        image_size=IMAGE_SIZE,\n",
    "        batch_size=BATCH_SIZE,\n",
    "    )\n",
    "    test_dataset = tf.keras.preprocessing.image_dataset_from_directory(\n",
    "        directory = test,\n",
    "        class_names = categories,\n",
    "        color_mode = color,\n",
    "        validation_split = 0,\n",
    "        seed=1337,\n",
    "        image_size=IMAGE_SIZE,\n",
    "        batch_size=BATCH_SIZE,\n",
    "    )\n",
    "     \n",
    "# NOW WE MAKE NETWORK\n",
    "    inputs = Input(SHAPE)\n",
    "    #x = data_augmentation(inputs)\n",
    "    #x = Rescaling(1./255)(inputs)\n",
    "# first layer\n",
    "    x = layers.Conv2D(filters=32, kernel_size=(3,3), activation=\"relu\", padding=\"same\")(inputs)\n",
    "    x = layers.MaxPooling2D(2, 2, padding=\"valid\")(x)\n",
    "# second layer\n",
    "    x = layers.Dropout(0.4)(x)\n",
    "    x = layers.Conv2D(filters=64, kernel_size=(3,3), activation=\"relu\", padding=\"same\")(x)\n",
    "    x = layers.MaxPooling2D(2, 2, padding=\"valid\")(x)\n",
    "# third layer\n",
    "    x = layers.Dropout(0.4)(x)\n",
    "    x = layers.Conv2D(64, (3, 3), activation='relu',kernel_initializer=initializers.random_normal(), padding=\"valid\",bias_initializer=initializers.zeros())(x)\n",
    "    x = layers.MaxPooling2D(2, 2, padding=\"valid\")(x)\n",
    "# fourth layer\n",
    "    x = layers.Dropout(0.4)(x)\n",
    "    x = layers.Conv2D(128, (3, 3), activation='relu',kernel_initializer=initializers.random_normal(), padding=\"valid\",bias_initializer=initializers.zeros())(x)\n",
    "    #x = layers.BatchNormalization()(x)\n",
    "# hidden\n",
    "    x = layers.Dropout(0.4)(x)\n",
    "    x = layers.Flatten()(x)\n",
    "    x = layers.Dense(256, activation='relu')(x)\n",
    "    x = layers.Dense(32, activation='relu')(x)    \n",
    "    outputs = (layers.Dense(units=1, activation=\"sigmoid\"))(x)\n",
    "    model = Model(inputs, outputs, name=\"2Dcnn\")\n",
    "# Define the model.\n",
    "    model.summary()\n",
    "# Compile model.\n",
    "    initial_learning_rate = 0.0001\n",
    "    lr_schedule = tf.optimizers.schedules.ExponentialDecay(\n",
    "        initial_learning_rate, decay_steps=100000, decay_rate=0.96, staircase=True\n",
    "    )\n",
    "    model.compile(\n",
    "        loss=\"binary_crossentropy\",\n",
    "        optimizer=Adam(learning_rate=lr_schedule),\n",
    "        metrics=[\"acc\"],\n",
    "    )\n",
    "# Define callbacks.\n",
    "    checkpoint_cb = keras.callbacks.ModelCheckpoint(\"2d_image_classification.h5\", save_best_only=True)\n",
    "    early_stopping_cb = callbacks.EarlyStopping(monitor=\"val_acc\", patience=15)\n",
    "    history = model.fit(\n",
    "        train_dataset,\n",
    "        validation_data=val_dataset,\n",
    "        epochs=EPOCHS,\n",
    "        verbose=2,\n",
    "        callbacks=[checkpoint_cb, early_stopping_cb]\n",
    "    )\n",
    "    #plot_results(history, save_dir=directory)\n",
    "    #keras.utils.plot_model(model, show_shapes=True)\n",
    "    plt.figure(figsize=(12, 16))\n",
    "    plot_history(history, path=directory + \"test.png\")"
   ]
  },
  {
   "cell_type": "markdown",
   "id": "07f3df7e-f426-4758-8cd7-f7e585304cc9",
   "metadata": {
    "jp-MarkdownHeadingCollapsed": true,
    "tags": []
   },
   "source": [
    "\n",
    "### 2D REGRESSION\n",
    "--------"
   ]
  },
  {
   "cell_type": "code",
   "execution_count": 14,
   "id": "2e5a022d-c78c-441b-a5da-6ec1d3a3156d",
   "metadata": {
    "tags": []
   },
   "outputs": [],
   "source": [
    "def createModel2D_REG(directory, width, height, epo=4, batch=10,categories=[], color = \"grayscale\", load_model = False, silent = False):\n",
    "    DATASET_LOCATION = directory\n",
    "    BATCH_SIZE = batch\n",
    "    IMAGE_SIZE = (width, height)\n",
    "    SHAPE = (width, height, 1)\n",
    "    EPOCHS = epo\n",
    "    train = directory + \"train\" + kPSep\n",
    "    val = directory + \"val\"+kPSep\n",
    "    test = directory + \"testing\" + kPSep\n",
    "    len_up = len(os.listdir(train+categories[1]))\n",
    "    len_down = len(os.listdir(train+categories[0]))\n",
    "    savename = directory + \"2d_image_classification.h5\"\n",
    "    \n",
    "    train_dataset =  tf.keras.preprocessing.image_dataset_from_directory(\n",
    "        directory = train,\n",
    "        class_names = categories,\n",
    "#        class_mode='categorical',\n",
    "        color_mode = color,\n",
    "        validation_split = 0,\n",
    "        seed=1337,\n",
    "        image_size=IMAGE_SIZE,\n",
    "        batch_size=BATCH_SIZE,\n",
    "    )\n",
    "    val_dataset = tf.keras.preprocessing.image_dataset_from_directory(\n",
    "        directory = val,\n",
    "        class_names = categories,\n",
    "        color_mode = color,\n",
    "#        class_mode='categorical',\n",
    "        validation_split = 0,\n",
    "        seed=1337,\n",
    "        image_size=IMAGE_SIZE,\n",
    "        batch_size=BATCH_SIZE,\n",
    "    )\n",
    "    test_dataset = tf.keras.preprocessing.image_dataset_from_directory(\n",
    "        directory = test,\n",
    "#        class_mode ='categorical',\n",
    "        class_names = categories,\n",
    "        color_mode = color,\n",
    "        validation_split = 0,\n",
    "        seed=1337,\n",
    "        image_size=IMAGE_SIZE,\n",
    "        batch_size=1,\n",
    "    )\n",
    "     \n",
    "# NOW WE MAKE NETWORK\n",
    "    inputs = Input(SHAPE)\n",
    "    #x = data_augmentation(inputs)\n",
    "    #x = Rescaling(1./255)(inputs)\n",
    "# first layer\n",
    "    x = layers.Conv2D(filters=16, kernel_size=(3,3), activation=\"relu\", padding=\"same\")(inputs)\n",
    "    x = layers.MaxPooling2D(2, 2, padding=\"valid\")(x)\n",
    "# second layer\n",
    "    #x = layers.Conv2D(32, (3, 3), activation='relu',kernel_initializer=initializers.random_normal(), padding=\"valid\",bias_initializer=initializers.zeros())(x)\n",
    "    #x = layers.BatchNormalization()(x)\n",
    "    #x = layers.MaxPooling2D(2, 2)(x)\n",
    "    \n",
    "# third layer\n",
    "    #x = layers.Conv2D(64, (3, 3), activation='relu',kernel_initializer=initializers.random_normal(), padding=\"valid\")(x)\n",
    "    #x = layers.MaxPooling2D(2, 2)(x)\n",
    "# hidden\n",
    "    x = Flatten()(x)\n",
    "    x = Dense(128, activation=\"selu\")(x)\n",
    "    x = layers.BatchNormalization()(x)\n",
    "    x = layers.Dropout(0.35)(x)\n",
    "    x = layers.Dense(24, activation='relu')(x)\n",
    "    outputs = (layers.Dense(units=len(categories), activation=\"softmax\"))(x)\n",
    "    model = Model(inputs, outputs, name=\"regression\")\n",
    "# Define the model.\n",
    "    model.summary()\n",
    "# Compile model.\n",
    "    sgd = SGD(lr=0.001, decay=1e-5, momentum=0.9, nesterov=True)\n",
    "    model.compile(\n",
    "        loss=keras.losses.sparse_categorical_crossentropy,\n",
    "        optimizer=sgd,#Adam(lr=1e-3, decay=1e-3 / 200),\n",
    "        metrics=[\"acc\"],\n",
    "    )\n",
    "# Define callbacks.\n",
    "    checkpoint_cb = keras.callbacks.ModelCheckpoint(savename, save_best_only=True)\n",
    "    early_stopping_cb = callbacks.EarlyStopping(monitor=\"val_acc\", patience=25)\n",
    "    print(\"\\n\\ntraining regression model, av_sign is: \" + str((len_up - len_down)/(len_up + len_down)) + \"\\n\\n\\n\")\n",
    "    print(\"\\t\\t->positive percentage is: \" + str((len_up)/(len_up + len_down)) + \"\\n\\n\\n\")\n",
    "    print(\"\\t\\t->negative percentage is: \" + str((len_down)/(len_up + len_down)) + \"\\n\\n\\n\")\n",
    "    if not load_model:\n",
    "        history = model.fit(\n",
    "            train_dataset,\n",
    "            validation_data=val_dataset,\n",
    "            epochs=EPOCHS,\n",
    "            verbose=0,\n",
    "            callbacks= [TqdmCallback(verbose = 1), checkpoint_cb, early_stopping_cb]\n",
    "        )\n",
    "        plt.figure(figsize=(12, 16))\n",
    "        plot_history(history, path=directory + \"test.png\")\n",
    "    else:\n",
    "        model = keras.models.load_model(savename)\n",
    "    \n",
    "    \n",
    "    # tescik\n",
    "    \n",
    "    predictions = model.predict(test_dataset)\n",
    "    labels = []\n",
    "    for x, y in test_dataset:\n",
    "        labels.append(np.array(y))\n",
    "    labels = np.array(labels).flatten()\n",
    "    counter = 0\n",
    "    preds = []\n",
    "    for i in range(len(predictions)):\n",
    "        wrong = \"\\t I AM \\033[1;32m RIGHT \\033[1;0m ! ! !\"\n",
    "        counter += 1\n",
    "        preds.append(np.argmax(predictions[i]))\n",
    "        if np.argmax(predictions[i]) != int(labels[i]):\n",
    "            wrong = \"\\t I AM \\033[1;31m WRONG \\033[1;0m ! ! !\"\n",
    "            counter -= 1\n",
    "        print(\"\\033[1;0\",predictions[i], \"label = \", labels[i], wrong)\n",
    "        \n",
    "    fpr_keras, tpr_keras, thresholds_keras = roc_curve(labels, np.array(preds))\n",
    "    plt.plot(fpr_keras,tpr_keras)\n",
    "    plt.ylabel('True Positive Rate')\n",
    "    plt.xlabel('False Positive Rate')\n",
    "    auc_keras = auc(fpr_keras, tpr_keras)\n",
    "    plt.plot(auc_keras)\n",
    "    plt.savefig(directory + \"roc.png\",facecolor='w')\n",
    "    plt.show()\n",
    "    print(f'\\033[1;36m \\n\\n\\t--------------------\\tTest accuracy is {counter/len(predictions)}\\t--------------------\\n\\n')\n",
    "    \n",
    "    return model\n",
    "    "
   ]
  },
  {
   "cell_type": "markdown",
   "id": "819ba88e-b6b3-4dfd-a3e4-9de676a48410",
   "metadata": {
    "tags": []
   },
   "source": [
    "------------\n",
    "## AUTOENCODERS\n",
    "--------------------"
   ]
  },
  {
   "cell_type": "markdown",
   "id": "5633a301-d07e-4797-baa5-20ac02770b33",
   "metadata": {
    "tags": []
   },
   "source": [
    "\n",
    "### AUTOENCODER\n",
    "----------\n",
    "Here we provide the standard autoencoder function that returns normal model with changable inner layers number"
   ]
  },
  {
   "cell_type": "code",
   "execution_count": 2,
   "id": "95567597-7c23-40d5-ab56-c5f7a262f3da",
   "metadata": {
    "tags": []
   },
   "outputs": [
    {
     "ename": "NameError",
     "evalue": "name 'keras' is not defined",
     "output_type": "error",
     "traceback": [
      "\u001b[1;31m---------------------------------------------------------------------------\u001b[0m",
      "\u001b[1;31mNameError\u001b[0m                                 Traceback (most recent call last)",
      "\u001b[1;32m~\\AppData\\Local\\Temp/ipykernel_6044/3660432239.py\u001b[0m in \u001b[0;36m<module>\u001b[1;34m\u001b[0m\n\u001b[1;32m----> 1\u001b[1;33m \u001b[1;32mdef\u001b[0m \u001b[0mautoEnc\u001b[0m\u001b[1;33m(\u001b[0m\u001b[0mlatent_dim\u001b[0m\u001b[1;33m,\u001b[0m \u001b[0mshape\u001b[0m\u001b[1;33m,\u001b[0m \u001b[0mnlayers\u001b[0m\u001b[1;33m=\u001b[0m\u001b[1;36m1\u001b[0m\u001b[1;33m,\u001b[0m \u001b[0malfa\u001b[0m\u001b[1;33m=\u001b[0m\u001b[1;36m0.1\u001b[0m\u001b[1;33m,\u001b[0m \u001b[0mactivation\u001b[0m \u001b[1;33m=\u001b[0m \u001b[0mkeras\u001b[0m\u001b[1;33m.\u001b[0m\u001b[0mactivations\u001b[0m\u001b[1;33m.\u001b[0m\u001b[0mrelu\u001b[0m\u001b[1;33m)\u001b[0m\u001b[1;33m:\u001b[0m\u001b[1;33m\u001b[0m\u001b[1;33m\u001b[0m\u001b[0m\n\u001b[0m\u001b[0;32m      2\u001b[0m     \u001b[0mprint\u001b[0m\u001b[1;33m(\u001b[0m\u001b[1;34mf\"creating #layers = {nlayers} with input shape {shape}\"\u001b[0m\u001b[1;33m)\u001b[0m\u001b[1;33m\u001b[0m\u001b[1;33m\u001b[0m\u001b[0m\n\u001b[0;32m      3\u001b[0m     \u001b[0minput_size\u001b[0m \u001b[1;33m=\u001b[0m \u001b[0mshape\u001b[0m\u001b[1;33m[\u001b[0m\u001b[1;36m1\u001b[0m\u001b[1;33m]\u001b[0m\u001b[1;33m\u001b[0m\u001b[1;33m\u001b[0m\u001b[0m\n\u001b[0;32m      4\u001b[0m     \u001b[0mcompression\u001b[0m \u001b[1;33m=\u001b[0m \u001b[0mint\u001b[0m\u001b[1;33m(\u001b[0m\u001b[0minput_size\u001b[0m \u001b[1;33m*\u001b[0m \u001b[0mlatent_dim\u001b[0m \u001b[1;33m/\u001b[0m \u001b[0minput_size\u001b[0m\u001b[1;33m)\u001b[0m\u001b[1;33m\u001b[0m\u001b[1;33m\u001b[0m\u001b[0m\n\u001b[0;32m      5\u001b[0m     \u001b[1;31m# integer division\u001b[0m\u001b[1;33m\u001b[0m\u001b[1;33m\u001b[0m\u001b[0m\n",
      "\u001b[1;31mNameError\u001b[0m: name 'keras' is not defined"
     ]
    }
   ],
   "source": [
    "def autoEnc(latent_dim, shape, nlayers=1, alfa=0.1, activation = keras.activations.relu):\n",
    "    print(f\"creating #layers = {nlayers} with input shape {shape}\")\n",
    "    input_size = shape[1]\n",
    "    compression = int(input_size * latent_dim / input_size)\n",
    "    # integer division\n",
    "    reduction = compression // nlayers\n",
    "    # check if there is to many layers\n",
    "    if input_size - (nlayers - 1) * reduction <= 0:\n",
    "        print(f\"to many layers {nlayers} for compression {compression}\")\n",
    "\n",
    "    # ------ encoder\n",
    "    inputer = Input(input_size)\n",
    "    encoder = None\n",
    "    if nlayers == 1:\n",
    "        # shap = (None\n",
    "        encoder = tensorflow.keras.layers.Dense(input_size - (nlayers - 1) * reduction,\n",
    "                               activation=tensorflow.keras.activations.sigmoid, name = \"sigmoidLayer\")(inputer)\n",
    "        # we must have size bigger than 0 so check maximum for those number of layers\n",
    "    else:\n",
    "        # add linear layer\n",
    "        encoder = layers.Dense(input_size - reduction,\n",
    "                               activation=tensorflow.keras.layers.LeakyReLU(alpha=alfa), name = \"startingLeakyRelu\")(inputer)\n",
    "        # add leaky relus\n",
    "        counter = 2\n",
    "        for i in range(nlayers - 3):\n",
    "            encoder = layers.Dense(input_size - counter * reduction,\n",
    "                                   activation= tensorflow.keras.layersLeakyReLU(alpha=alfa))(encoder)\n",
    "            counter += 1\n",
    "\n",
    "        # add last dense layer\n",
    "        encoder = layers.Dense(input_size - (nlayers - 1) * reduction,\n",
    "                               activation=tensorflow.keras.activations.sigmoid, name = \"sigmoidLayer\")(encoder)\n",
    "\n",
    "    \n",
    "    decoder = None\n",
    "    if nlayers == 1:\n",
    "        decoder = layers.Dense(input_size, activation=tensorflow.keras.activations.sigmoid)(encoder)\n",
    "        # we must have size bigger than 0 so check maximum for those number of layers\n",
    "    else:\n",
    "        counter = nlayers - 1\n",
    "        decoder = layers.Dense(input_size - counter * reduction, activation=tensorflow.keras.layers.LeakyReLU(alpha=alfa))(encoder)\n",
    "\n",
    "        counter -= 1\n",
    "        for i in range(nlayers - 2):\n",
    "            decoder = layers.Dense(input_size - counter * reduction, activation=tensorflow.keras.layers.LeakyReLU(alpha=alfa))(decoder)\n",
    "            counter -= 1\n",
    "\n",
    "       # add last dense layer\n",
    "        decoder = layers.Dense(input_size, activation=tensorflow.keras.activations.sigmoid)(decoder)\n",
    "\n",
    "\n",
    "    decod_M = keras.Model(inputer, decoder, name=\"autoencoder\")\n",
    "\n",
    "    return decod_M"
   ]
  },
  {
   "cell_type": "code",
   "execution_count": 16,
   "id": "98a29a00-450f-4535-9511-daf096f1723d",
   "metadata": {
    "tags": []
   },
   "outputs": [],
   "source": [
    "\n",
    "    "
   ]
  },
  {
   "cell_type": "markdown",
   "id": "65e91fec-3012-4736-b3cf-5598b4e85dca",
   "metadata": {
    "tags": []
   },
   "source": [
    "-------------------\n",
    "# NETWORK USERS"
   ]
  },
  {
   "cell_type": "markdown",
   "id": "a98fa4ca-9cfe-45f2-a743-b65daa3bddff",
   "metadata": {
    "tags": []
   },
   "source": [
    "-------\n",
    "### AUTOENCODING FROM DATA"
   ]
  },
  {
   "cell_type": "code",
   "execution_count": 17,
   "id": "c68691fe-8763-421f-ac6f-1a3871391510",
   "metadata": {
    "tags": []
   },
   "outputs": [],
   "source": [
    "def fileAutoencode(directory, model, latent_dim, epo, trainsize, testsize = 5,batch = 10, x = 1, y = 1, \\\n",
    "                   verbose = 2, createFiles = True, loss = 'mean_squared_error',\\\n",
    "                   activation = 'relu', savename = 'model', train = True):\n",
    "    # take the folder\n",
    "    Lx = model.Lx\n",
    "    Ly = model.Ly\n",
    "\n",
    "\n",
    "    folder = directory + kPSep + model.getDirectory() + \"greens\" + kPSep + model.getInfo() + kPSep + \"times\" + kPSep\n",
    "    files = set(os.listdir(folder))\n",
    "    # create files if necessary\n",
    "    if createFiles:  \n",
    "        for i in range(trainsize + testsize):\n",
    "            names = [filename for filename in files if filename.startswith(f\"{i}-\") and filename.endswith(\".dat\")]\n",
    "\n",
    "            if len(names) > 0:\n",
    "                readTimeDisplacedGreens(folder, model.M, names , Lx, Ly)\n",
    "                \n",
    "    # change into the folder\n",
    "    folder = folder + \"posDiff\" + kPSep + str((x, y)) + kPSep\n",
    "    filenum = len(files)\n",
    "    data_train = []\n",
    "    data_test = []\n",
    "    counter = 0\n",
    "\n",
    "    # read files\n",
    "    for filename in filter(lambda x: x.endswith('.dat'), os.listdir(folder)):\n",
    "        tmp = pd.read_csv(folder + filename,header = None, names = ['M', 'val', 'err'], sep = '\\t')\n",
    "        if counter > filenum:\n",
    "            break\n",
    "        elif counter < trainsize: \n",
    "            data_train.append( np.array(tmp['val']))\n",
    "        elif trainsize <= counter < trainsize + testsize:\n",
    "            data_test.append( np.array(tmp['val']))\n",
    "        else:\n",
    "            break\n",
    "        counter+=1\n",
    "    \n",
    "    data_train = np.array(data_train)\n",
    "    data_test = np.array(data_test)\n",
    "\n",
    "    # make autoencoder\n",
    "    print(f'\\n\\n\\t\\tMaking autoencoder with loss={loss},activ={activation},latent={latent_dim}\\t\\t\\n\\n')\n",
    "\n",
    "    autoencoder = autoEnc(latent_dim = latent_dim, shape = (model2.M,1), activation=activation)#Autoencoder(latent_dim = latent_dim, shape = (model2.M,1), activation=activation)\n",
    "    autoencoder.compile(optimizer='rmsprop', loss=loss)\n",
    "    checkpoint_cb = keras.callbacks.ModelCheckpoint(savename + \".h5\", save_best_only=True)\n",
    "    early_stopping_cb = callbacks.EarlyStopping(monitor=\"val_loss\", patience=10)\n",
    "    history = autoencoder.fit(data_train, data_train,\n",
    "                epochs=epo,\n",
    "                shuffle=True,\n",
    "                batch_size = batch,\n",
    "                validation_data=(data_test,data_test),verbose=0, callbacks = [TqdmCallback(verbose = 1), checkpoint_cb, early_stopping_cb])\n",
    "    autoencoder.summary()\n",
    "    if train:\n",
    "        plot_history(history, path=savename+',training.png')\n",
    "        print(\"creating h5 file: \" + savename + \".h5\")\n",
    "        autoencoder.save(savename + \".h5\", save_format='h5')\n",
    "    return autoencoder"
   ]
  },
  {
   "cell_type": "markdown",
   "id": "0bf94cfe-171f-48f5-bfdf-2e8c23a32403",
   "metadata": {
    "tags": []
   },
   "source": [
    "----------\n",
    "### COMPARISON WITH ORIGINAL"
   ]
  },
  {
   "cell_type": "code",
   "execution_count": 18,
   "id": "00ea8ff8-7d2b-42e6-965b-38962ae9ac09",
   "metadata": {
    "tags": []
   },
   "outputs": [],
   "source": [
    "def compareAutoencoder_Average(directory, model, latent_dim, epo, trainsize, x, y,subplts, batch = 10, load_model = False, testsize = 5, avNum = 5,\\\n",
    "                               encoderAvNum = 1, verbose = 2, createFiles = True, loss = 'mean_squared_error',\\\n",
    "                               activation = 'relu', scale = False, difference = mean_squared_error, theirError = 1, myError = False):\n",
    "    fig,ax = subplts\n",
    "    Lx = model.Lx\n",
    "    Ly = model.Ly\n",
    "    folder = directory + kPSep + model.getDirectory() + \"greens\" + kPSep + model.getInfo() + kPSep + \"times\" + kPSep\n",
    "    originalFolder = folder\n",
    "    folderComp = directory + kPSep + model.getDirectory() + \"greens\" + kPSep + model.getInfo() + kPSep + \"times\" + kPSep + \"compDiff\" + kPSep\n",
    "    savename = folder + f'myModel_loss={loss},activ={activation},latent={latent_dim},(x,y)={str((x,y))}'\n",
    "    # read comparison\n",
    "    if createFiles:\n",
    "        names = [readRandomFile(folderComp,lambda x: x.startswith(\"g\") and x.endswith(\".out\"), True)]\n",
    "        readTimeDisplacedGreens(folderComp, model.M + 1, names, Lx = Lx, Ly = Ly, skiprange = 35, end = '.out')\n",
    "    \n",
    "    # check if we load model or train new\n",
    "    if not load_model or (load_model and not os.path.exists(savename +\".h5\")): \n",
    "        network = fileAutoencode(directory, model, latent_dim, epo, trainsize, testsize, batch = batch, x=x ,y=y, verbose=verbose,\\\n",
    "                                 createFiles=createFiles, loss = loss, savename=savename, activation = activation, train = True)\n",
    "        title = f\"Model trained on trainsize={trainsize}, with {batch} batches\"\n",
    "        savename += f',loaded={True}'\n",
    "    else:\n",
    "        title = f\"Model loaded from : .{kPSep}{kPSep.join(savename.split(kPSep)[-4:])}.h5\"\n",
    "        print(f'\\n\\t\\tloading model :\\n\\t{savename}.h5\\n')\n",
    "        network = keras.models.load_model(savename+\".h5\")\n",
    "        savename += f',loaded={False}'\n",
    "    \n",
    "    folder += \"posDiff\" + kPSep + str((x, y)) + kPSep   \n",
    "    folderComp += \"posDiff\" + kPSep + str((x, y)) + kPSep\n",
    "    \n",
    "    # read one file to test\n",
    "    choice = readRandomFile(folder, dat, withoutFolder = True)\n",
    "    encodeFile = choice + \"\"\n",
    "    tmp = np.array(pd.read_csv(folder + choice,header = None, names = ['M', 'val', 'err'],\\\n",
    "                                 index_col = 0, sep = '\\t', encoding = 'utf-8')['val'])\n",
    "\n",
    "    \n",
    "    tmp_enc = tmp.copy()\n",
    "    tester = [tf.convert_to_tensor(tmp_enc)]\n",
    "    #tf.convert_to_tensor\n",
    "    # read files to average with\n",
    "    tmp12 = averageColsFromFolder(folder, avNum, tmp, ['M', 'val', 'err'], 'val')\n",
    "    \n",
    "    \n",
    "    # read files to average with autoencoder\n",
    "    for i in range(encoderAvNum - 1):\n",
    "        choice = readRandomFile(folder, dat, withoutFolder = True)\n",
    "        tmp_enc = np.array(pd.read_csv(folder + choice, header = None, names = ['M', 'val', 'err'],\\\n",
    "                                       index_col = 0, sep = '\\t', encoding = 'utf-8')['val'])\n",
    "        tester.append(tf.convert_to_tensor(tmp_enc))\n",
    "    image = np.array(network.predict(np.array([tester[0]]))[0])\n",
    "    #print(image)\n",
    "    for i in tester[1:]:\n",
    "        image += np.array(network.predict(np.array([i]))[0])\n",
    "    image /= len(tester)\n",
    "    \n",
    "    \n",
    "    # comparison from USA\n",
    "    fileUsa = readRandomFile(folderComp, dat, withoutFolder = True)\n",
    "    tmp2 = np.array(pd.read_csv(folderComp + fileUsa,\\\n",
    "                                 header = None, names = ['M', 'val', 'err'], index_col = 0, sep = '\\t')['val'])\n",
    "    if(theirError > 1):\n",
    "        tmp22 = tmp2.copy()\n",
    "        tmp22err = averageColsFromFolder(folderComp, theirError, tmp22, ['M', 'val', 'err'], 'val')\n",
    "    \n",
    "    #print(image)\n",
    "    title +=f\"\\nwith {difference}: {difference(image,tmp):.5f}\"\n",
    "    \n",
    "    label = f\"G($τ$,{x},{y}) after using the encoder\"\n",
    "    if encoderAvNum == 1:\n",
    "        label += \"on file : \" + encodeFile\n",
    "    else:\n",
    "        label += \", averaged over N = \" + str(encoderAvNum) + \" times\"\n",
    "    # if we need to scale up\n",
    "    if scale:\n",
    "        avTheir = np.max(tmp2)\n",
    "        avMine = np.max(image)#np.max(tmp['val'])\n",
    "        tmp = tmp * avTheir/avMine\n",
    "        image = image * avTheir/avMine\n",
    "        label += f'\\nThe scale is changed by scale={avTheir/avMine:.4f}'\n",
    "    # testing\n",
    "\n",
    "    #plt.clf()\n",
    "    #plt.cla()\n",
    "    #ax.figure(figsize=(20,20))\n",
    "\n",
    "    fig.suptitle(title, y=0.9)\n",
    "    # encoded\n",
    "    ax.plot(image, label= label)\n",
    "    # averaged\n",
    "    label = f\"G($τ$,{x},{y}) averaged over N = \" + str(avNum) + \" times\"\n",
    "    if avNum == 1:\n",
    "        label += f' . From file : {choice}'\n",
    "    ax.plot(tmp, label = label)\n",
    "    if myError:\n",
    "        xes = range(0,len(tmp))\n",
    "        ax.errorbar(x=xes,y=tmp, yerr =tmp12, label = f\"STD from mine over {avNum} files\")\n",
    "    # their\n",
    "    ax.plot(tmp2, label = f\"G($τ$,{x},{y}) from USA from file :\\n {fileUsa}\")\n",
    "    if theirError > 1:\n",
    "        xes = range(0,len(tmp2))\n",
    "        ax.errorbar(x=xes,y=tmp2, yerr =tmp22err, label = f\"STD from USA over {theirError} files\")\n",
    "\n",
    "    # sweet colors and stuff\n",
    "    ax.set_xlim(0,model.M)\n",
    "    ax.set_xlabel('M/d$τ$')\n",
    "    ax.set_ylabel (f\"G($τ$,x,y)\")\n",
    "    ax.legend()\n",
    "    plt.savefig(f'{savename}.png', facecolor='w')\n",
    "    #plt.show()\n",
    "    #plt.clf()\n",
    "    return network"
   ]
  },
  {
   "cell_type": "markdown",
   "id": "e36adf9b-313d-44c2-9a27-b7088ba19243",
   "metadata": {
    "jp-MarkdownHeadingCollapsed": true,
    "tags": []
   },
   "source": [
    "-------------------------------------\n",
    "# PREPARATION OF CONFIGURATIONS\n",
    "-----------------------------------"
   ]
  },
  {
   "cell_type": "code",
   "execution_count": 19,
   "id": "17737d5a-9f62-4b4e-bc33-37d862b9a3a5",
   "metadata": {
    "tags": []
   },
   "outputs": [],
   "source": [
    "def prepareSignConfigs(model,epo=4, batch=10, main_directory=\"./\", deleteFiles = False, reg = False, load_model = False, silent = False): \n",
    "    config_dir = main_directory + model.getDirectory() + \"configurations\" + kPSep\n",
    "    neg_dir = config_dir + model.getInfo() + kPSep + \"negative\" + kPSep\n",
    "    pos_dir = config_dir + model.getInfo() + kPSep + \"positive\" + kPSep\n",
    "    images_dir = config_dir + \"images\" + kPSep\n",
    "    # make images\n",
    "    imgFromConfig(neg_dir,images_dir + \"negative\" + kPSep, False, config_cond, deleteFiles)\n",
    "    imgFromConfig(pos_dir,images_dir + \"positive\" + kPSep, False, config_cond, deleteFiles)\n",
    "    print(\"\\tIMAGES DO EXIST NOW\")\n",
    "    shuffleToTestValidTrain(images_dir, train_size = 0.6, val_size = 0.3, classes = [\"negative\", \"positive\"], removeFolders=deleteFiles, silent= silent)\n",
    "    print(\"\\t'ND THEM SHUFFL'D\")\n",
    "    if not reg:\n",
    "        network = createModel2D_CONV(images_dir,epo=epo, batch=batch, width=model.N,height=model.M, categories=[\"negative\", \"positive\"])\n",
    "    else:\n",
    "        network = createModel2D_REG(images_dir,epo=epo, batch=batch, width=model.N,height=model.M, categories=[\"negative\", \"positive\"], load_model=  load_model, silent = silent)\n",
    "        \n",
    "    print(f'\\033[1;36m \\n\\n\\t--------------------\\tTest some random stuff\\t--------------------\\n\\n')\n",
    "    randConfig = model.makeRandomConfig()\n",
    "    print(randConfig.shape)\n",
    "    randConfig = np.array([randConfig])\n",
    "    print(network.predict(randConfig))"
   ]
  },
  {
   "cell_type": "markdown",
   "id": "6f287451-2f9d-4384-9664-ded41797db8d",
   "metadata": {
    "tags": []
   },
   "source": [
    "---------------------\n",
    "# GREEN FUNCTIONS\n",
    "---------------------"
   ]
  },
  {
   "cell_type": "markdown",
   "id": "3cacc273-c2af-4772-9a66-f791fa714401",
   "metadata": {
    "tags": []
   },
   "source": [
    "### READ UNEQUAL TIME GREENS\n",
    "\n",
    "-------------\n",
    "\n",
    "\n",
    "The function below allows the user to read the file that is saved in a triangular form starting (0,0) -> (Lx/2, 0) -> (1,1) -> (Lx/2, 1) -> (Lx/2, Ly/2) and each point has all the times printed as well $\\tau \\in \\{0,...,M-1\\}$ "
   ]
  },
  {
   "cell_type": "code",
   "execution_count": 20,
   "id": "84ae7b69-51b3-47f0-a286-377d0ff6503e",
   "metadata": {
    "tags": []
   },
   "outputs": [],
   "source": [
    "cond_down = lambda x : \"downgreens\" in x\n",
    "cond_up = lambda x : \"upgreens\" in x\n",
    "    \n",
    "def parseG_elems(line, val_place = 2, err_place = 5):\n",
    "    positions = \"G(nx,ny,ti)\"\n",
    "    momenta = 'G(qx,qy,ti)'\n",
    "    # looking if a given line starts with position Green\n",
    "    #print(line)\n",
    "    if line.lstrip().startswith(positions):\n",
    "        return ('0', 0 ,0)\n",
    "    elif line.lstrip().startswith(momenta):\n",
    "        return ('-1', 0 ,0)\n",
    "    # else we know there is data\n",
    "    elif line.lstrip().startswith('nx'):\n",
    "        tmp = line.split()\n",
    "        # providing next line as the positions are specified in it\n",
    "        # in my data [1] and [3]\n",
    "        # in usa data [2] and [5]\n",
    "        val = tmp[int(float(val_place))]\n",
    "        err = tmp[int(float(err_place))]\n",
    "        #print(val,err)\n",
    "        return (\"r\",int(val),int(err))\n",
    "    else:\n",
    "        tmp = line.split()\n",
    "        # return $\\tau$, x, y\n",
    "        return (int(tmp[0]), float(tmp[1]), float(tmp[3]))\n",
    "    "
   ]
  },
  {
   "cell_type": "code",
   "execution_count": 21,
   "id": "e8a1a39a-e473-45f6-b60c-c14c9f212735",
   "metadata": {
    "tags": []
   },
   "outputs": [],
   "source": [
    "def readTimeDisplacedGreens(directory, M, names, Lx = 1, Ly = 1, skiprange = 35, end = '.dat'):\n",
    "    pos_df = pd.DataFrame()\n",
    "    pos_err_df =  pd.DataFrame()\n",
    "    neg_df =  pd.DataFrame()\n",
    "    neg_err_df =  pd.DataFrame()\n",
    "    \n",
    "    fun = parseG_elems\n",
    "    \n",
    "    # create directories for each position difference\n",
    "    posDir = directory + \"posDiff\"\n",
    "    createFolder([posDir])\n",
    "    for i in range(int(Lx/2) + 1):\n",
    "        for j in range(i, int(Ly/2) + 1):\n",
    "            createFolder([posDir + kPSep + str((i,j))])\n",
    "            \n",
    "    for filename in names:\n",
    "        val_place = 2.0\n",
    "        err_place = 5.0\n",
    "        with open(directory + filename, 'r') as f:\n",
    "            # skip header\n",
    "            for _ in range(skiprange):\n",
    "                next(f)\n",
    "            # read lines\n",
    "            #print(directory + filename)\n",
    "            for line in f:\n",
    "                (dec,x,y) = parseG_elems(line, val_place, err_place)\n",
    "                if dec == 'r':\n",
    "                    tmp_col = (x,y)\n",
    "                    tmp_arr = []\n",
    "                    tmp_arr_err = []\n",
    "                    \n",
    "                    # open file to write\n",
    "                    path = posDir + kPSep + str(tmp_col) + kPSep + filename.split(\"_\")[0] + '.dat'\n",
    "                    \n",
    "                    # check if file already exists\n",
    "                    if os.path.exists(path) and os.path.getsize(path) > 0:\n",
    "                        for i in range(M):\n",
    "                            next(f)\n",
    "                    else: \n",
    "                        with open(os.path.abspath(path), \"w+\") as writeF:\n",
    "                            # save all the times\n",
    "                            for i in range(M):\n",
    "                                (tau, val, err) = parseG_elems(next(f), val_place, err_place)\n",
    "                                # write to file\n",
    "                                writeF.write(f'{tau}\\t{val}\\t{err}\\n')\n",
    "                                tmp_arr.append(val)\n",
    "                                tmp_arr_err.append(err)\n",
    "                            # save the dataframe\n",
    "                            if \"up\" in filename:\n",
    "                                pos_df[str(tmp_col)] = np.array(tmp_arr)\n",
    "                                pos_err_df[str(tmp_col)] = np.array(tmp_arr_err)\n",
    "                            else:\n",
    "                                neg_df[str(tmp_col)] = np.array(tmp_arr)\n",
    "                                neg_err_df[str(tmp_col)] = np.array(tmp_arr_err)\n",
    "                        writeF.close()\n",
    "                elif dec == '0':\n",
    "                    continue\n",
    "                # the file is not standardly parsed ;c\n",
    "                elif dec == '-1':\n",
    "                #print finished positions\n",
    "                    break\n",
    "                else:\n",
    "                    print(\"BADLY PARSED FILE, skip it!\")\n",
    "                    break\n",
    "                \n",
    "        f.close()\n",
    "    return (pos_df, pos_err_df, neg_df, neg_err_df)"
   ]
  },
  {
   "cell_type": "markdown",
   "id": "47983e2b-6ca7-4fe7-a959-92c8ece18ce0",
   "metadata": {
    "tags": []
   },
   "source": [
    "------------------------\n",
    "### GREEN FOURIER TRANSFORM"
   ]
  },
  {
   "cell_type": "code",
   "execution_count": 22,
   "id": "47b52607-41bf-41eb-804c-6bc13a6ff494",
   "metadata": {},
   "outputs": [],
   "source": [
    "def greenFourierTransform(directory, M, dataframes, names, Lx = 1, Ly = 1, skiprange = 35):\n",
    "    createFolder(directory + 'momenta' + kPSep, silent=True)\n",
    "    negFile = open(directory + 'momenta' + kPSep + names[0], \"w\")\n",
    "    posFile = open(directory + 'momenta' + kPSep + names[1], 'w')\n",
    "    (pos_df, pos_err_df, neg_df, neg_err_df) = dataframes\n",
    "\n",
    "    kxStep = TWOPI / Lx\n",
    "    kyStep = TWOPI / Ly\n",
    "    for i in range(Lx/2 + 1):\n",
    "        kx = i * kxStep\n",
    "        for j in range(Ly/2 + 1):\n",
    "            ky = j * kyStep\n",
    "            justPrinter(posFile, \"\\t\", [f' G(qx,qy,ti): (qx,\\tkx) =', f'{i},\\t{kx:.3f}', 'f(qy,\\tky) =', f'{j},\\t{ky:3f}'], width=10)\n",
    "            justPrinter(negFile, \"\\t\", [f' G(qx,qy,ti): (qx,\\tkx) =', f'{i},\\t{kx:.3f}', 'f(qy,\\tky) =', f'{j},\\t{ky:3f}'], width=10)\n",
    "            for yy in range(-Ly + 1, Ly):\n",
    "                yelem = abs(yy) % (Ly / 2 + 1)\n",
    "                for xx in range(-Lx + 1, Lx):\n",
    "                    xelem = abs(xx) % (Lx / 2 + 1)\n",
    "                    # make exponent\n",
    "                    expa = math.exp(1j * (kx * xx + ky * yy))\n",
    "\n",
    "                    col = str((xelem, yelem))\n",
    "                    ups = pos_df[col]\n",
    "                    down = neg_df[col]\n",
    "                    ups_er = pos_err_df[col]\n",
    "                    downs_er = neg_err_df[col]\n",
    "\n",
    "                    # tmp vars\n",
    "                    tmp_up = [i*0 for i in range(M)]\n",
    "                    tmp_down = tmp_up\n",
    "                    sd_tmp_up = tmp_up\n",
    "                    sd_tmp_down = tmp_up\n",
    "                    for tau1 in range(M):\n",
    "                        elem_up = expa * ups[tau1]\n",
    "                        elem_down = expa * down[tau1]\n",
    "                        tmp_up[tau1] += elem_up;\n",
    "                        tmp_down[tau1] += elem_down;\n",
    "                        # stdev\n",
    "                        elem_up = expa * ups_er[tau1]\n",
    "                        elem_down = expa * downs_er[tau1]\n",
    "                        sd_tmp_up[tau1] += elem_up * elem_up\n",
    "                        sd_tmp_down[tau1] += elem_down * elem_down\n",
    "        # save files\n",
    "        for tau1 in range(M):\n",
    "            justPrinter(posFile, \"\\t\", [tau1], 4, false)\n",
    "            elem_up = tmp_up[tau1].real\n",
    "            justPrinter(posFile, \"\\t\", [f'{elem_up:.8f}'], 8 + 5, false)\n",
    "            justPrinter(posFile, \"\\t\", [\"+-\"], 5, false)\n",
    "            elem_up = math.sqrt(abs(sd_tmp_up[tau1].real)) / TWOPI\n",
    "            justPrinter(posFile, \"\\t\", [f'{elem_up:.8f}'], 8 + 5, false)\n",
    "\n",
    "            justPrinter(negFile, \"\\t\", [tau1], 4, false)\n",
    "            elem_up = tmp_down[tau1].real\n",
    "            justPrinter(negFile, \"\\t\", [f'{elem_down:.8f}'], 8 + 5, false)\n",
    "            justPrinter(negFile, \"\\t\", [\"+-\"], 5, false)\n",
    "            elem_up = math.sqrt(abs(sd_tmp_down[tau1].real)) / TWOPI\n",
    "            justPrinter(negFile, \"\\t\", [f'{elem_down:.8f}'], 8 + 5, false)\n",
    "            \n",
    "    negFile.close()\n",
    "    posFile.close()"
   ]
  },
  {
   "cell_type": "markdown",
   "id": "b178e768-adc8-4fa1-acb7-8955957f283b",
   "metadata": {
    "tags": []
   },
   "source": [
    "---------\n",
    "# TESTERS\n",
    "------------"
   ]
  },
  {
   "cell_type": "markdown",
   "id": "fbf4ce37-a6d1-4fb5-93e6-8fc3364dbb25",
   "metadata": {},
   "source": [
    "## CREATE MODEL"
   ]
  },
  {
   "cell_type": "code",
   "execution_count": 25,
   "id": "2d730736-1c7f-4893-975b-53f0f410c5c1",
   "metadata": {},
   "outputs": [
    {
     "data": {
      "text/plain": [
       "(64, 160, 1)"
      ]
     },
     "execution_count": 25,
     "metadata": {},
     "output_type": "execute_result"
    }
   ],
   "source": [
    "U = 8\n",
    "Lx = 8\n",
    "Ly = 8\n",
    "mu = -1.5\n",
    "beta = 8\n",
    "lattice = \"square\"\n",
    "# --- \n",
    "M = 160\n",
    "M_0 = 10\n",
    "\n",
    "model = HubbardDQMC(M, M_0, U, mu, beta, lattice, Lx, Ly)\n",
    "model2 = HubbardDQMC(40, 4, 8.00, 0.00, 2.00, lattice, Lx, Ly)\n",
    "model.getInfo()\n",
    "model.makeRandomConfig().shape"
   ]
  },
  {
   "cell_type": "markdown",
   "id": "a838c0a5-1eac-4071-9c91-82de4a3016a5",
   "metadata": {
    "tags": []
   },
   "source": [
    "---------------------\n",
    "## AUTOENCODER"
   ]
  },
  {
   "cell_type": "code",
   "execution_count": 46,
   "id": "ef3a1b3f-c689-42f8-ab9c-32e4d7232f6c",
   "metadata": {
    "tags": []
   },
   "outputs": [
    {
     "name": "stdout",
     "output_type": "stream",
     "text": [
      "\n",
      "\t\tloading model :\n",
      "\tD:\\Uni\\SEMESTERS\\PRACE\\CONDENSED_GROUP_CLOUD_UNI\\DQMC\\DQMC\\results\\square\\2D\\Lx=8,Ly=8,Lz=1\\greens\\M=40,M0=4,dtau=0.05,Lx=8,Ly=8,Lz=1,beta=2.00,U=8.00,mu=0.00\\times\\myModel_loss=mean_squared_error,activ=relu,latent=3,(x,y)=(0, 0).h5\n",
      "\n",
      "\n",
      "\t\tloading model :\n",
      "\tD:\\Uni\\SEMESTERS\\PRACE\\CONDENSED_GROUP_CLOUD_UNI\\DQMC\\DQMC\\results\\square\\2D\\Lx=8,Ly=8,Lz=1\\greens\\M=40,M0=4,dtau=0.05,Lx=8,Ly=8,Lz=1,beta=2.00,U=8.00,mu=0.00\\times\\myModel_loss=mean_squared_error,activ=relu,latent=3,(x,y)=(0, 3).h5\n",
      "\n"
     ]
    },
    {
     "data": {
      "image/png": "[encoded data removed]",
      "text/plain": [
       "<Figure size 1440x1440 with 1 Axes>"
      ]
     },
     "metadata": {
      "needs_background": "light"
     },
     "output_type": "display_data"
    }
   ],
   "source": [
    "\n",
    "\n",
    "trainSiz = 500\n",
    "subplts =  plt.subplots(figsize=(20,20))\n",
    "\n",
    "\n",
    "x = 0\n",
    "y = 0\n",
    "\n",
    "network = compareAutoencoder_Average(resultsFolder,subplts=subplts, model = model2,\\\n",
    "                           load_model = True, latent_dim = 3,\\\n",
    "                           epo = 300, batch = 40, trainsize = trainSiz,\\\n",
    "                           testsize = 50, avNum = 30 ,encoderAvNum = 5, x = x, y = y, verbose = 1,\\\n",
    "                           createFiles=False, loss = 'mean_squared_error',\\\n",
    "                           activation = 'relu', scale = False, difference = mean_absolute_error, theirError=15, myError=True)\n",
    "\n",
    "x = 0\n",
    "y = 3\n",
    "network = compareAutoencoder_Average(resultsFolder,subplts=subplts, model = model2,\\\n",
    "                           load_model = True, latent_dim = 3,\\\n",
    "                           epo = 300, batch = 40, trainsize = trainSiz,\\\n",
    "                           testsize = 50, avNum = 30 ,encoderAvNum = 5, x = x, y = y, verbose = 1,\\\n",
    "                           createFiles=False, loss = 'mean_squared_error',\\\n",
    "                           activation = 'relu', scale = False, difference = mean_absolute_error, theirError=15, myError=True)\n",
    "plt.show()\n",
    "tmp_dir = resultsFolder + f'\\\\results\\\\square\\\\2D\\\\Lx=8,Ly=8,Lz=1\\\\greens\\\\M=40,M0=4,dtau=0.05,Lx=8,Ly=8,Lz=1,beta=2.00,U=8.00,mu=0.00\\\\times\\\\posDiff\\\\(0, 0)\\\\594-upgreensTime.dat'\n",
    "\n"
   ]
  },
  {
   "cell_type": "code",
   "execution_count": null,
   "id": "581ccbf6-aebb-47b8-9595-30e98a51b0b9",
   "metadata": {},
   "outputs": [],
   "source": [
    "\n"
   ]
  },
  {
   "cell_type": "code",
   "execution_count": null,
   "id": "29cbe491-8a68-4e2b-ad0e-b73fbe79620c",
   "metadata": {},
   "outputs": [],
   "source": []
  },
  {
   "cell_type": "code",
   "execution_count": null,
   "id": "02887a49-7ce8-4280-9c47-6f8339664714",
   "metadata": {},
   "outputs": [],
   "source": []
  },
  {
   "cell_type": "code",
   "execution_count": null,
   "id": "86c94d60-1267-4e79-9eb0-96620247ebbf",
   "metadata": {},
   "outputs": [],
   "source": []
  },
  {
   "cell_type": "code",
   "execution_count": null,
   "id": "31953799-8f43-4b05-910d-c6785f71f1d1",
   "metadata": {},
   "outputs": [],
   "source": []
  },
  {
   "cell_type": "code",
   "execution_count": null,
   "id": "f345c6f4-3463-48bd-97aa-30adde69c92b",
   "metadata": {},
   "outputs": [],
   "source": []
  },
  {
   "cell_type": "code",
   "execution_count": null,
   "id": "3cf74c4c-6e6b-4e51-a9ec-28d05cb4bd45",
   "metadata": {},
   "outputs": [],
   "source": []
  },
  {
   "cell_type": "code",
   "execution_count": null,
   "id": "548c1f57-57dd-4708-86cc-d6b41455cad2",
   "metadata": {},
   "outputs": [],
   "source": []
  },
  {
   "cell_type": "code",
   "execution_count": null,
   "id": "cb3bcd04-0425-4630-bd10-3afe72a8aec1",
   "metadata": {},
   "outputs": [],
   "source": []
  },
  {
   "cell_type": "code",
   "execution_count": null,
   "id": "514f61c0-75eb-4281-9831-e73e01ab657d",
   "metadata": {},
   "outputs": [],
   "source": []
  }
 ],
 "metadata": {
  "kernelspec": {
   "display_name": "Python 3 (ipykernel)",
   "language": "python",
   "name": "python3"
  },
  "language_info": {
   "codemirror_mode": {
    "name": "ipython",
    "version": 3
   },
   "file_extension": ".py",
   "mimetype": "text/x-python",
   "name": "python",
   "nbconvert_exporter": "python",
   "pygments_lexer": "ipython3",
   "version": "3.9.7"
  }
 },
 "nbformat": 4,
 "nbformat_minor": 5
}
