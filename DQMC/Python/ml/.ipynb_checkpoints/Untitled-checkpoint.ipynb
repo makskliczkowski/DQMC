{
 "cells": [
  {
   "cell_type": "markdown",
   "id": "9b0ccc35-d644-4fc5-b601-e63c9dfee1c5",
   "metadata": {},
   "source": [
    "This is the notebook that includes the procedures for machine learning to be used in the Determinant Quantum Monte Carlo simulation"
   ]
  },
  {
   "cell_type": "code",
   "execution_count": 2,
   "id": "692c4680-f8a4-4f47-bac4-f5dff6152c3e",
   "metadata": {},
   "outputs": [
    {
     "name": "stdout",
     "output_type": "stream",
     "text": [
      "[name: \"/device:CPU:0\"\n",
      "device_type: \"CPU\"\n",
      "memory_limit: 268435456\n",
      "locality {\n",
      "}\n",
      "incarnation: 10723381731384358997\n",
      ", name: \"/device:GPU:0\"\n",
      "device_type: \"GPU\"\n",
      "memory_limit: 5060693856\n",
      "locality {\n",
      "  bus_id: 1\n",
      "  links {\n",
      "  }\n",
      "}\n",
      "incarnation: 11140231590372518511\n",
      "physical_device_desc: \"device: 0, name: NVIDIA GeForce GTX 1060, pci bus id: 0000:01:00.0, compute capability: 6.1\"\n",
      "]\n"
     ]
    }
   ],
   "source": [
    "# standard\n",
    "import numpy as np\n",
    "import pandas as pd\n",
    "\n",
    "# import keras\n",
    "from keras.models import Sequential\n",
    "from keras.layers import Conv2D, MaxPooling2D, GlobalMaxPooling2D, BatchNormalization, Activation, Dropout, Flatten, Dense, GlobalAveragePooling2D, AveragePooling2D\n",
    "from keras.preprocessing.image import ImageDataGenerator\n",
    "from keras.optimizers import SGD, Adam\n",
    "from keras.metrics import MeanAbsoluteError, MeanAbsolutePercentageError, MeanSquaredError\n",
    "from keras import losses\n",
    "from keras import Input, Model\n",
    "from keras import regularizers\n",
    "from keras import initializers, optimizers\n",
    "\n",
    "# tensorflow\n",
    "import tensorflow as tf\n",
    "from tensorflow.python.client import device_lib\n",
    "print(device_lib.list_local_devices())"
   ]
  },
  {
   "cell_type": "markdown",
   "id": "db26ecd4-0f88-43d5-ae4d-5526b8d7b7ac",
   "metadata": {},
   "source": [
    "Printing the history given from our trained network"
   ]
  },
  {
   "cell_type": "code",
   "execution_count": 3,
   "id": "e433d846-5e7b-427d-848f-7300e1085ae2",
   "metadata": {},
   "outputs": [],
   "source": [
    "def printHistory(history):\n",
    "    # val_acc = history.history['val_acc']\n",
    "    plt.plot(history.history)\n",
    "    # plt.plot(history.history['loss'])\n",
    "    # plt.plot(epochs, val_acc, 'b', label='Validation accuracy')\n",
    "    plt.xlabel('Epochs')\n",
    "    # plt.ylabel('Loss and accuracy')\n",
    "    plt.legend()\n",
    "    plt.show()"
   ]
  },
  {
   "cell_type": "code",
   "execution_count": null,
   "id": "36bee12b-3692-4af5-9a2c-c3083a10c14b",
   "metadata": {},
   "outputs": [],
   "source": [
    "def plot_results(model_history_small_cnn: History, savedir,name=\"training_validation.pdf\"):\n",
    "    \"\"\"This function uses seaborn with matplotlib to plot the trainig and validation losses of both input models in an\n",
    "    sns.relplot(). The mean baseline is plotted as a horizontal red dotted line.\n",
    "\n",
    "    Parameters\n",
    "    ----------\n",
    "    model_history_small_cnn : History\n",
    "        keras History object of the model.fit() method.\n",
    "    \"\"\"\n",
    "\n",
    "    # create a dictionary for each model history and loss type\n",
    "    dict1 = {\n",
    "        \"loss\": model_history_small_cnn.history['loss'],\n",
    "        \"type\": \"training\",\n",
    "        \"model\": \"small_cnn\",\n",
    "    }\n",
    "    dict2 = {\n",
    "        \"loss\": model_history_small_cnn.history['val_loss'],\n",
    "        \"type\": \"validation\",\n",
    "        \"model\": \"small_cnn\",\n",
    "    }\n",
    "\n",
    "    # convert the dicts to pd.Series and concat them to a pd.DataFrame in the long format\n",
    "    s1 = pd.DataFrame(dict1)\n",
    "    s2 = pd.DataFrame(dict2)\n",
    "\n",
    "    df = pd.concat([s1,s2], axis=0).reset_index()\n",
    "    grid = sns.relplot(data=df, x=df[\"index\"], y=\"loss\", hue=\"model\", col=\"type\", kind=\"line\", legend=False)\n",
    "    sns.set_style(\"white\")\n",
    "    #grid.set(ylim=(0, 1))  # set the y-axis limit\n",
    "    for ax in grid.axes.flat:\n",
    "        ax.set(xlabel=\"Epoch\")\n",
    "    #labels = [\"Loss function\"]  # custom labels for the plot\n",
    "\n",
    "    #plt.legend(labels,loc='best')\n",
    "    plt.savefig(savedir + kPathSeparator + name)\n",
    "    plt.show()"
   ]
  }
 ],
 "metadata": {
  "kernelspec": {
   "display_name": "Python 3",
   "language": "python",
   "name": "python3"
  },
  "language_info": {
   "codemirror_mode": {
    "name": "ipython",
    "version": 3
   },
   "file_extension": ".py",
   "mimetype": "text/x-python",
   "name": "python",
   "nbconvert_exporter": "python",
   "pygments_lexer": "ipython3",
   "version": "3.8.8"
  }
 },
 "nbformat": 4,
 "nbformat_minor": 5
}
