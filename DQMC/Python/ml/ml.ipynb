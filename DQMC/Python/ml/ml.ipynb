{
 "cells": [
  {
   "cell_type": "markdown",
   "id": "a5b270d6-b6c0-45e6-9ad1-442a3e45df74",
   "metadata": {},
   "source": [
    "This is the notebook that includes the procedures for machine learning to be used in the Determinant Quantum Monte Carlo simulation"
   ]
  },
  {
   "cell_type": "markdown",
   "id": "832a5097-73e7-46a3-9068-b2a15931dfef",
   "metadata": {},
   "source": [
    "# MACHINE LEARNING IMPORTS\n",
    "--------------------"
   ]
  },
  {
   "cell_type": "code",
   "execution_count": 1,
   "id": "d8e70fb6-cf9d-44e1-b1d5-8e4440588f5f",
   "metadata": {},
   "outputs": [],
   "source": [
    "# standard\n",
    "from pathlib import Path\n",
    "import numpy as np\n",
    "import pandas as pd\n",
    "import matplotlib.pyplot as plt\n",
    "import seaborn as sns\n",
    "import itertools\n",
    "import math\n",
    "import os\n",
    "import random\n",
    "%matplotlib inline\n"
   ]
  },
  {
   "cell_type": "code",
   "execution_count": 2,
   "id": "38897a45-7ab1-424a-9d3c-79112904a5f3",
   "metadata": {
    "tags": []
   },
   "outputs": [
    {
     "name": "stdout",
     "output_type": "stream",
     "text": [
      "[name: \"/device:CPU:0\"\n",
      "device_type: \"CPU\"\n",
      "memory_limit: 268435456\n",
      "locality {\n",
      "}\n",
      "incarnation: 7612936734107158484\n",
      ", name: \"/device:GPU:0\"\n",
      "device_type: \"GPU\"\n",
      "memory_limit: 5060693856\n",
      "locality {\n",
      "  bus_id: 1\n",
      "  links {\n",
      "  }\n",
      "}\n",
      "incarnation: 17289108683475089313\n",
      "physical_device_desc: \"device: 0, name: NVIDIA GeForce GTX 1060, pci bus id: 0000:01:00.0, compute capability: 6.1\"\n",
      "]\n"
     ]
    }
   ],
   "source": [
    "# import keras\n",
    "from keras.models import Sequential\n",
    "from keras.layers import Conv2D, MaxPooling2D, GlobalMaxPooling2D, BatchNormalization, Activation, Dropout, Flatten, Dense, GlobalAveragePooling2D, AveragePooling2D\n",
    "from keras.preprocessing.image import ImageDataGenerator\n",
    "from keras.optimizers import SGD, Adam\n",
    "from keras.metrics import MeanAbsoluteError, MeanAbsolutePercentageError, MeanSquaredError\n",
    "from keras.callbacks import History\n",
    "from keras import callbacks\n",
    "from keras import losses\n",
    "from keras import Input, Model\n",
    "from keras import regularizers\n",
    "from keras import initializers, optimizers\n",
    "from plot_keras_history import plot_history\n",
    "from tqdm.keras import TqdmCallback\n",
    "\n",
    "# tensorflow\n",
    "import tensorflow as tf\n",
    "from tensorflow.python.client import device_lib\n",
    "from tensorflow.keras.utils import plot_model\n",
    "from tensorflow import keras\n",
    "from tensorflow.keras import layers\n",
    "from tensorflow.keras.layers.experimental.preprocessing import RandomFlip, RandomRotation, Rescaling\n",
    "print(device_lib.list_local_devices())"
   ]
  },
  {
   "cell_type": "markdown",
   "id": "43965195-37ed-4bba-804f-b37c8eb43390",
   "metadata": {},
   "source": [
    "# DEFINITIONS "
   ]
  },
  {
   "cell_type": "code",
   "execution_count": 128,
   "id": "84e7c744-8121-4950-bb41-229ed56d32bb",
   "metadata": {},
   "outputs": [
    {
     "name": "stdout",
     "output_type": "stream",
     "text": [
      "results folder :  D:\\Uni\\SEMESTERS\\PRACE\\CONDENSED_GROUP_CLOUD_UNI\\DQMC\\DQMC\n",
      "directory path :  D:\\Uni\\SEMESTERS\\PRACE\\CONDENSED_GROUP_CLOUD_UNI\\DQMC\\DQMC\\Python\\ml\n"
     ]
    }
   ],
   "source": [
    "markers = itertools.cycle(['o','s','v', ',', '+', '.', 'o', '*'])\n",
    "colors = itertools.cycle(sns.color_palette())\n",
    "TWOPI = math.pi * 2\n",
    "\n",
    "\n",
    "kPSep = os.sep\n",
    "\n",
    "resultsFolder = 'D:' + kPSep + 'Uni' + kPSep + 'SEMESTERS' + kPSep + 'PRACE' + kPSep + 'CONDENSED_GROUP_CLOUD_UNI' + kPSep + 'DQMC' + kPSep + 'DQMC'\n",
    "print(\"results folder : \", resultsFolder)\n",
    "directory_path = os.getcwd()\n",
    "print(\"directory path : \", directory_path)"
   ]
  },
  {
   "cell_type": "markdown",
   "id": "d391e244-a0e4-40cc-a3f0-9e7129b27171",
   "metadata": {
    "tags": []
   },
   "source": [
    "------------------\n",
    "# OTHERS\n",
    "______________________"
   ]
  },
  {
   "cell_type": "markdown",
   "id": "20c7a41b-220c-4558-a2b5-2f44244b3283",
   "metadata": {},
   "source": [
    "Check if the directories from the list are existing and if not create them"
   ]
  },
  {
   "cell_type": "code",
   "execution_count": 98,
   "id": "73a3900b-d2d0-473e-a8ec-d0453f127755",
   "metadata": {
    "tags": []
   },
   "outputs": [],
   "source": [
    "def createFolder(directories, silent = False):\n",
    "    for folder in directories:\n",
    "        try:\n",
    "            if not os.path.isdir(folder):\n",
    "                os.makedirs(folder)\n",
    "                if not silent:\n",
    "                    print(\"Created a directory : \", folder)\n",
    "        except OSError:\n",
    "            print(\"Creation of the directory %s failed\" % folder)      \n",
    "# Guard against race condition\n",
    "        except OSError as exc: \n",
    "            if exc.errno != errno.EEXIST:\n",
    "                raise"
   ]
  },
  {
   "cell_type": "code",
   "execution_count": 180,
   "id": "960b21c5-baa4-43ec-9ced-9709852de81d",
   "metadata": {
    "tags": []
   },
   "outputs": [],
   "source": [
    "dat = lambda x : x.endswith('.dat')\n",
    "def readRandomFile(folder, cond, withoutFolder = False):\n",
    "    choice = random.choice(os.listdir(folder))\n",
    "    #print(choice)\n",
    "    maxlen = len(os.listdir(folder))\n",
    "    counter = 0\n",
    "    while not cond(choice):\n",
    "        choice = random.choice(os.listdir(folder))\n",
    "        if counter > maxlen:\n",
    "            raise\n",
    "        counter += 1\n",
    "    if withoutFolder:\n",
    "        return choice\n",
    "    else:\n",
    "        return folder + choice"
   ]
  },
  {
   "cell_type": "code",
   "execution_count": 137,
   "id": "f4f62dac-a509-4829-ab82-c190d88e2e4e",
   "metadata": {
    "tags": []
   },
   "outputs": [],
   "source": [
    "def justPrinter(file,sep=\"\\t\", elements =[], width = 8, endline = True):\n",
    "    for item in elements:\n",
    "        file.write((str(item) + sep).ljust(width))\n",
    "    if endline:\n",
    "        file.write(\"\\n\")"
   ]
  },
  {
   "cell_type": "code",
   "execution_count": null,
   "id": "1fed00b7-6a51-4ec8-9571-3a47479c012b",
   "metadata": {
    "tags": []
   },
   "outputs": [],
   "source": []
  },
  {
   "cell_type": "markdown",
   "id": "e0c30ebb-3823-4846-bb1c-5cf2b6d28f35",
   "metadata": {
    "jp-MarkdownHeadingCollapsed": true,
    "tags": []
   },
   "source": [
    "----------------------------\n",
    "# CLASSES CONTAINING ALL INFO ABOUT MODELS"
   ]
  },
  {
   "cell_type": "markdown",
   "id": "74e37e5c-413a-4bc3-bc38-9bb06c4f1ddf",
   "metadata": {
    "tags": []
   },
   "source": [
    "The HubbardQR model that directly corresponds to the model in the C++ simulation"
   ]
  },
  {
   "cell_type": "code",
   "execution_count": 77,
   "id": "14377e16-05d3-4192-a5a2-5ef8aea8c487",
   "metadata": {
    "tags": []
   },
   "outputs": [],
   "source": [
    "class HubbardDQMC:\n",
    "    N = 1\n",
    "    M = 1\n",
    "    def __init__(self, M, M_0, U, mu, beta, lattice_type, Lx, Ly, Lz = 1, dim = 2):\n",
    "        self.M = M\n",
    "        self.M_0 = M_0\n",
    "        self.dtau = beta/M\n",
    "        self.lambd = math.acosh(math.exp((abs(U) * self.dtau) * 0.5));\n",
    "        # physical\n",
    "        self.beta = beta\n",
    "        self.T = 1.0/beta\n",
    "        self.U = U\n",
    "        self.mu = mu\n",
    "        # lattice\n",
    "        self.lat_type = lattice_type\n",
    "        self.dim = dim\n",
    "        self.Lx = Lx\n",
    "        self.Ly = Ly\n",
    "        self.Lz = Lz\n",
    "        self.N = Lx*Ly*Lz\n",
    "        self.directory = \"results\" + kPSep \n",
    "        \n",
    "    def getInfo(self):\n",
    "        return f'M={self.M},M0={self.M_0},dtau={self.dtau:.2f},Lx={self.Lx},Ly={self.Ly},Lz={self.Lz},beta={self.beta:.2f},U={self.U:.2f},mu={self.mu:.2f}' \n",
    "\n",
    "    \n",
    "    def getDirectory(self):\n",
    "        LxLyLz = f'Lx={self.Lx},Ly={self.Ly},Lz={self.Lz}'       \n",
    "        return self.directory + self.lat_type + kPSep + str(self.dim) + \"D\" + kPSep + LxLyLz + kPSep\n",
    "    \n",
    "    def makeRandomConfig(self):\n",
    "        return np.random.randint(2,size=(self.N, self.M, 1))"
   ]
  },
  {
   "cell_type": "markdown",
   "id": "db26ecd4-0f88-43d5-ae4d-5526b8d7b7ac",
   "metadata": {
    "jp-MarkdownHeadingCollapsed": true,
    "tags": []
   },
   "source": [
    "------------------\n",
    "# IMAGES\n",
    "______________________"
   ]
  },
  {
   "cell_type": "code",
   "execution_count": 8,
   "id": "d7bbba1a-7519-4948-88b1-f8e2ef1b8046",
   "metadata": {
    "tags": []
   },
   "outputs": [],
   "source": [
    "from PIL import Image\n",
    "from shutil import copyfile"
   ]
  },
  {
   "cell_type": "markdown",
   "id": "b8132e7c-1213-4f77-8de4-5f37e86b7620",
   "metadata": {
    "jp-MarkdownHeadingCollapsed": true,
    "tags": []
   },
   "source": [
    "### CREATE IMAGES FROM CONFIGURATIONS SAVED TO A FILE"
   ]
  },
  {
   "cell_type": "code",
   "execution_count": 99,
   "id": "5bd9ef3d-736c-4963-9bf7-8032537e0794",
   "metadata": {
    "tags": []
   },
   "outputs": [],
   "source": [
    "# conditions\n",
    "config_cond = lambda x: x.endswith(\".dat\") and (x.startswith(\"neg_\") or x.startswith(\"pos_\"))\n",
    "\n",
    "# functions\n",
    "def imgFromConfig(directory,savedir=\".\"+kPSep, lines=False, cond = lambda x : x, deleteFile = False, silent = False):\n",
    "    createFolder([savedir], silent)\n",
    "    for filename in filter(cond, os.listdir(directory)):\n",
    "        # read data\n",
    "        imArray = np.loadtxt(directory + filename)\n",
    "        # check if we have only one row\n",
    "        if imArray.ndim == 1:\n",
    "            imArray = np.array([ar])\n",
    "        # plot with axes\n",
    "        if lines:\n",
    "            x, y = np.linspace(0, len(ar[0]) - 1, len(ar[0])), np.linspace(0, len(ar) - 1, len(ar))\n",
    "            plt.gca().set_xticks(x)\n",
    "            plt.gca().set_xticklabels([str(i) if i % 10 == 0 else '' for i in x], rotation=90)\n",
    "            plt.gca().set_yticks(y)\n",
    "            plt.gca().set_yticklabels([str(i) if i % 10 == 0 else '' for i in y], rotation=45)\n",
    "            plt.imshow(imArray, interpolation='none')\n",
    "            plt.savefig(saveFolder + filename[:-4] + '.png')\n",
    "        else:\n",
    "            image = Image.fromarray(np.uint8(imArray * 255), \"L\") # .convert('RGB').resize(max_size, resample=Image.BOX)\n",
    "            image.save(savedir + filename[:-4] + '.png')\n",
    "        if deleteFile:\n",
    "            os.remove(directory + filename)"
   ]
  },
  {
   "cell_type": "markdown",
   "id": "772959e9-368f-4746-9568-1a9a833f0f02",
   "metadata": {
    "tags": []
   },
   "source": [
    "--------\n",
    "# HELPERS\n",
    "------"
   ]
  },
  {
   "cell_type": "markdown",
   "id": "e4d830f5-b74a-415f-a0c2-43a2caa1d39b",
   "metadata": {
    "jp-MarkdownHeadingCollapsed": true,
    "tags": []
   },
   "source": [
    "### SHUFFLE TO FILES TO DIFFERENT DIRECTORIES FOR TEST, VALIDATION AND TRAINING\n",
    "Here we will create the directories that will contain the filles according to specified category and will be shuffled to val, test and val folders"
   ]
  },
  {
   "cell_type": "code",
   "execution_count": 95,
   "id": "cb45ed14-fc79-467b-8d7a-15f933bd49d5",
   "metadata": {
    "tags": []
   },
   "outputs": [],
   "source": [
    "def split_data(SOURCE, TRAINING, VALIDATION, TESTING, train_siz, val_siz, silent = False):\n",
    "    files = []\n",
    "    # list files\n",
    "    for filename in os.listdir(SOURCE):\n",
    "        file = SOURCE + kPSep + filename\n",
    "        if os.path.getsize(file) > 0:\n",
    "            files.append(filename)\n",
    "        else:\n",
    "            print(filename + \" is zero length, so ignoring this bud.\")\n",
    "\n",
    "    training_length = int(len(files) * train_siz)\n",
    "    validation_length = int(len(files) * val_siz)\n",
    "    testing_length = int(len(files) - training_length - validation_length)\n",
    "    \n",
    "    if not silent:\n",
    "        print('SOURCE: ', SOURCE, '\\n TRAINING', TRAINING, '\\n VALIDATION', VALIDATION, '\\n ', len(files))\n",
    "        print('training_length:', training_length)\n",
    "        print('validation_length:', validation_length)\n",
    "        print('testing_length:', testing_length)\n",
    "\n",
    "    shuffled_set = random.sample(files, len(files))\n",
    "    training_set = shuffled_set[0:training_length]\n",
    "    validation_set = shuffled_set[training_length:(training_length + validation_length)]\n",
    "    testing_set = shuffled_set[training_length + validation_length:-1]\n",
    "\n",
    "    # TRAIN\n",
    "    for filename in training_set:\n",
    "        this_file = SOURCE + kPSep + filename\n",
    "        destination = TRAINING + kPSep + filename\n",
    "        Path(this_file).rename(destination)\n",
    "\n",
    "    # VAL\n",
    "    for filename in validation_set:\n",
    "        this_file = SOURCE + kPSep + filename\n",
    "        destination = VALIDATION + kPSep + filename\n",
    "        Path(this_file).rename(destination)\n",
    "    # TEST\n",
    "    for filename in testing_set:\n",
    "        this_file = SOURCE + kPSep + filename\n",
    "        destination = TESTING + kPSep + filename\n",
    "        Path(this_file).rename(destination)\n",
    "\n"
   ]
  },
  {
   "cell_type": "code",
   "execution_count": 94,
   "id": "dd9fd79f-421f-43c2-b3a0-8b8706c8fca9",
   "metadata": {
    "tags": []
   },
   "outputs": [],
   "source": [
    "def shuffleToTestValidTrain(directory, train_size, val_size, classes = [''], removeFolders = False, silent = False):\n",
    "    # path to the source files\n",
    "    source_path = [directory + a for a in classes]\n",
    "    # set TRAIN VALIDATION AND TEST FOLDERS\n",
    "    TRAIN_VAL_TEST = ['train', 'val', 'testing']\n",
    "    TRAIN_VAL_TEST = [directory + a + kPSep for a in TRAIN_VAL_TEST]\n",
    "    createFolder(TRAIN_VAL_TEST)\n",
    "    # set folders with classes\n",
    "    train_path = [TRAIN_VAL_TEST[0] + a  for a in classes]\n",
    "    val_path = [TRAIN_VAL_TEST[1] + a  for a in classes]\n",
    "    test_path = [TRAIN_VAL_TEST[2] + a  for a in classes]\n",
    "    createFolder(train_path + val_path + test_path)  \n",
    "    # TRY TO SPLIT FILES\n",
    "    if not silent:\n",
    "        print('\\tSPLITTING DATA')\n",
    "    for source, train_dir_path, val_dir_path, test_dir_path in zip(source_path, train_path, val_path, test_path):\n",
    "        split_data(source, train_dir_path, val_dir_path, test_dir_path, train_size, val_size)\n",
    "    if removeFolders:\n",
    "        for folder in source_path:\n",
    "            os.rmdir(folder)\n"
   ]
  },
  {
   "cell_type": "markdown",
   "id": "cb48c135-584a-41ce-a5cf-e333778f231c",
   "metadata": {
    "tags": []
   },
   "source": [
    "-------------------\n",
    "# NETWORKS \n",
    "--------------------"
   ]
  },
  {
   "cell_type": "markdown",
   "id": "7c546fb5-c521-46c0-b4c4-4200f28faa96",
   "metadata": {
    "jp-MarkdownHeadingCollapsed": true,
    "tags": []
   },
   "source": [
    "\n",
    "### 2D CONVOLUTION\n",
    "--------\n",
    "Below the network for 2d convolion is created, the files are taken from directories, that are split up before"
   ]
  },
  {
   "cell_type": "code",
   "execution_count": 12,
   "id": "13841435-fdac-4e41-90d1-02f3894a11f5",
   "metadata": {
    "tags": []
   },
   "outputs": [],
   "source": [
    "def createModel2D_CONV(directory, width, height, epo=4, batch=10,categories=[], color = \"grayscale\"):\n",
    "    DATASET_LOCATION = directory\n",
    "    BATCH_SIZE = batch\n",
    "    IMAGE_SIZE = (width, height)\n",
    "    SHAPE = (width, height, 1)\n",
    "    EPOCHS = epo\n",
    "    train = directory + \"train\" + kPSep\n",
    "    val = directory + \"val\"+kPSep\n",
    "    test = directory + \"testing\" + kPSep\n",
    "\n",
    "    \n",
    "    train_dataset =  tf.keras.preprocessing.image_dataset_from_directory(\n",
    "        directory = train,\n",
    "        class_names = categories,\n",
    "        color_mode = color,\n",
    "        validation_split = 0,\n",
    "        seed=1337,\n",
    "        image_size=IMAGE_SIZE,\n",
    "        batch_size=BATCH_SIZE,\n",
    "    )\n",
    "    val_dataset = tf.keras.preprocessing.image_dataset_from_directory(\n",
    "        directory = val,\n",
    "        class_names = categories,\n",
    "        color_mode = color,\n",
    "        validation_split = 0,\n",
    "        seed=1337,\n",
    "        image_size=IMAGE_SIZE,\n",
    "        batch_size=BATCH_SIZE,\n",
    "    )\n",
    "    test_dataset = tf.keras.preprocessing.image_dataset_from_directory(\n",
    "        directory = test,\n",
    "        class_names = categories,\n",
    "        color_mode = color,\n",
    "        validation_split = 0,\n",
    "        seed=1337,\n",
    "        image_size=IMAGE_SIZE,\n",
    "        batch_size=BATCH_SIZE,\n",
    "    )\n",
    "     \n",
    "# NOW WE MAKE NETWORK\n",
    "    inputs = Input(SHAPE)\n",
    "    #x = data_augmentation(inputs)\n",
    "    #x = Rescaling(1./255)(inputs)\n",
    "# first layer\n",
    "    x = layers.Conv2D(filters=32, kernel_size=(3,3), activation=\"relu\", padding=\"same\")(inputs)\n",
    "    x = layers.MaxPooling2D(2, 2, padding=\"valid\")(x)\n",
    "# second layer\n",
    "    x = layers.Dropout(0.4)(x)\n",
    "    x = layers.Conv2D(filters=64, kernel_size=(3,3), activation=\"relu\", padding=\"same\")(x)\n",
    "    x = layers.MaxPooling2D(2, 2, padding=\"valid\")(x)\n",
    "# third layer\n",
    "    x = layers.Dropout(0.4)(x)\n",
    "    x = layers.Conv2D(64, (3, 3), activation='relu',kernel_initializer=initializers.random_normal(), padding=\"valid\",bias_initializer=initializers.zeros())(x)\n",
    "    x = layers.MaxPooling2D(2, 2, padding=\"valid\")(x)\n",
    "# fourth layer\n",
    "    x = layers.Dropout(0.4)(x)\n",
    "    x = layers.Conv2D(128, (3, 3), activation='relu',kernel_initializer=initializers.random_normal(), padding=\"valid\",bias_initializer=initializers.zeros())(x)\n",
    "    #x = layers.BatchNormalization()(x)\n",
    "# hidden\n",
    "    x = layers.Dropout(0.4)(x)\n",
    "    x = layers.Flatten()(x)\n",
    "    x = layers.Dense(256, activation='relu')(x)\n",
    "    x = layers.Dense(32, activation='relu')(x)    \n",
    "    outputs = (layers.Dense(units=1, activation=\"sigmoid\"))(x)\n",
    "    model = Model(inputs, outputs, name=\"2Dcnn\")\n",
    "# Define the model.\n",
    "    model.summary()\n",
    "# Compile model.\n",
    "    initial_learning_rate = 0.0001\n",
    "    lr_schedule = tf.optimizers.schedules.ExponentialDecay(\n",
    "        initial_learning_rate, decay_steps=100000, decay_rate=0.96, staircase=True\n",
    "    )\n",
    "    model.compile(\n",
    "        loss=\"binary_crossentropy\",\n",
    "        optimizer=Adam(learning_rate=lr_schedule),\n",
    "        metrics=[\"acc\"],\n",
    "    )\n",
    "# Define callbacks.\n",
    "    checkpoint_cb = keras.callbacks.ModelCheckpoint(\"2d_image_classification.h5\", save_best_only=True)\n",
    "    early_stopping_cb = callbacks.EarlyStopping(monitor=\"val_acc\", patience=15)\n",
    "    history = model.fit(\n",
    "        train_dataset,\n",
    "        validation_data=val_dataset,\n",
    "        epochs=EPOCHS,\n",
    "        verbose=2,\n",
    "        callbacks=[checkpoint_cb, early_stopping_cb]\n",
    "    )\n",
    "    #plot_results(history, save_dir=directory)\n",
    "    #keras.utils.plot_model(model, show_shapes=True)\n",
    "    plt.figure(figsize=(12, 16))\n",
    "    plot_history(history, path=directory + \"test.png\")"
   ]
  },
  {
   "cell_type": "markdown",
   "id": "07f3df7e-f426-4758-8cd7-f7e585304cc9",
   "metadata": {
    "jp-MarkdownHeadingCollapsed": true,
    "tags": []
   },
   "source": [
    "\n",
    "### 2D REGRESSION\n",
    "--------"
   ]
  },
  {
   "cell_type": "code",
   "execution_count": 108,
   "id": "2e5a022d-c78c-441b-a5da-6ec1d3a3156d",
   "metadata": {
    "tags": []
   },
   "outputs": [],
   "source": [
    "def createModel2D_REG(directory, width, height, epo=4, batch=10,categories=[], color = \"grayscale\", load_model = False, silent = False):\n",
    "    DATASET_LOCATION = directory\n",
    "    BATCH_SIZE = batch\n",
    "    IMAGE_SIZE = (width, height)\n",
    "    SHAPE = (width, height, 1)\n",
    "    EPOCHS = epo\n",
    "    train = directory + \"train\" + kPSep\n",
    "    val = directory + \"val\"+kPSep\n",
    "    test = directory + \"testing\" + kPSep\n",
    "    len_up = len(os.listdir(train+categories[1]))\n",
    "    len_down = len(os.listdir(train+categories[0]))\n",
    "    savename = directory + \"2d_image_classification.h5\"\n",
    "    \n",
    "    train_dataset =  tf.keras.preprocessing.image_dataset_from_directory(\n",
    "        directory = train,\n",
    "        class_names = categories,\n",
    "#        class_mode='categorical',\n",
    "        color_mode = color,\n",
    "        validation_split = 0,\n",
    "        seed=1337,\n",
    "        image_size=IMAGE_SIZE,\n",
    "        batch_size=BATCH_SIZE,\n",
    "    )\n",
    "    val_dataset = tf.keras.preprocessing.image_dataset_from_directory(\n",
    "        directory = val,\n",
    "        class_names = categories,\n",
    "        color_mode = color,\n",
    "#        class_mode='categorical',\n",
    "        validation_split = 0,\n",
    "        seed=1337,\n",
    "        image_size=IMAGE_SIZE,\n",
    "        batch_size=BATCH_SIZE,\n",
    "    )\n",
    "    test_dataset = tf.keras.preprocessing.image_dataset_from_directory(\n",
    "        directory = test,\n",
    "#        class_mode ='categorical',\n",
    "        class_names = categories,\n",
    "        color_mode = color,\n",
    "        validation_split = 0,\n",
    "        seed=1337,\n",
    "        image_size=IMAGE_SIZE,\n",
    "        batch_size=1,\n",
    "    )\n",
    "     \n",
    "# NOW WE MAKE NETWORK\n",
    "    inputs = Input(SHAPE)\n",
    "    #x = data_augmentation(inputs)\n",
    "    #x = Rescaling(1./255)(inputs)\n",
    "# first layer\n",
    "    x = layers.Conv2D(filters=32, kernel_size=(3,3), activation=\"relu\", padding=\"same\")(inputs)\n",
    "    x = layers.MaxPooling2D(2, 2, padding=\"valid\")(x)\n",
    "# second layer\n",
    "    #x = layers.Conv2D(64, (3, 3), activation='relu',kernel_initializer=initializers.random_normal(), padding=\"valid\",bias_initializer=initializers.zeros())(x)\n",
    "    #x = layers.BatchNormalization()(x)\n",
    "    #x = layers.MaxPooling2D(2, 2)(x)\n",
    "    \n",
    "# third layer\n",
    "    x = layers.Conv2D(64, (3, 3), activation='relu',kernel_initializer=initializers.random_normal(), padding=\"valid\")(x)\n",
    "    x = layers.MaxPooling2D(2, 2)(x)\n",
    "# hidden\n",
    "    x = Flatten()(x)\n",
    "    x = Dense(64, activation=\"selu\")(x)\n",
    "    x = layers.BatchNormalization()(x)\n",
    "    x = layers.Dropout(0.35)(x)\n",
    "    x = layers.Dense(10, activation='relu')(x)\n",
    "    outputs = (layers.Dense(units=len(categories), activation=\"softmax\"))(x)\n",
    "    model = Model(inputs, outputs, name=\"regression\")\n",
    "# Define the model.\n",
    "    model.summary()\n",
    "    json = model.to_json()\n",
    "    with open(directory + \"model.txt\", 'w') as outfile:\n",
    "        outfile.write(json)\n",
    "# Compile model.\n",
    "    initial_learning_rate = 0.0001\n",
    "    lr_schedule = tf.optimizers.schedules.ExponentialDecay(\n",
    "        initial_learning_rate, decay_steps=10000, decay_rate=0.96, staircase=True\n",
    "    )\n",
    "    sgd = SGD(lr=0.001, decay=1e-5, momentum=0.9, nesterov=True)\n",
    "    model.compile(\n",
    "        loss=\"sparse_categorical_crossentropy\",\n",
    "        optimizer=sgd,#Adam(lr=1e-3, decay=1e-3 / 200),\n",
    "        metrics=[\"acc\"],\n",
    "    )\n",
    "# Define callbacks.\n",
    "    checkpoint_cb = keras.callbacks.ModelCheckpoint(savename, save_best_only=True)\n",
    "    early_stopping_cb = callbacks.EarlyStopping(monitor=\"val_acc\", patience=25)\n",
    "    print(\"\\n\\ntraining regression model, av_sign is: \" + str((len_up - len_down)/(len_up + len_down)) + \"\\n\\n\\n\")\n",
    "    if not load_model:\n",
    "        history = model.fit(\n",
    "            train_dataset,\n",
    "            validation_data=val_dataset,\n",
    "            epochs=EPOCHS,\n",
    "            verbose=0,\n",
    "            callbacks= [TqdmCallback(verbose = 1), checkpoint_cb, early_stopping_cb]\n",
    "        )\n",
    "        plt.figure(figsize=(12, 16))\n",
    "        plot_history(history, path=directory + \"test.png\")\n",
    "    else:\n",
    "        model = keras.models.load_model(savename)\n",
    "    \n",
    "    \n",
    "    # tescik\n",
    "    \n",
    "    predictions = model.predict(test_dataset)\n",
    "    labels = []\n",
    "    for x, y in test_dataset:\n",
    "        labels.append(np.array(y))\n",
    "    labels = np.array(labels).flatten()\n",
    "    counter = 0\n",
    "    for i in range(len(predictions)):\n",
    "        wrong = \"\\t I AM \\033[1;32m RIGHT \\033[1;0m ! ! !\"\n",
    "        counter += 1\n",
    "        if np.argmax(predictions[i]) != int(labels[i]):\n",
    "            wrong = \"\\t I AM \\033[1;31m WRONG \\033[1;0m ! ! !\"\n",
    "            counter -= 1\n",
    "        print(\"\\033[1;0\",predictions[i], \"label = \", labels[i], wrong)\n",
    "    print(f'\\033[1;36m \\n\\n\\t--------------------\\tTest accuracy is {counter/len(predictions)}\\t--------------------\\n\\n')\n",
    "    \n",
    "    return model\n",
    "    "
   ]
  },
  {
   "cell_type": "markdown",
   "id": "819ba88e-b6b3-4dfd-a3e4-9de676a48410",
   "metadata": {
    "tags": []
   },
   "source": [
    "------------\n",
    "## AUTOENCODERS\n",
    "--------------------"
   ]
  },
  {
   "cell_type": "markdown",
   "id": "5633a301-d07e-4797-baa5-20ac02770b33",
   "metadata": {
    "tags": []
   },
   "source": [
    "The autoencoder class, given the inner dimension and outside shape it provides the autoencoding with call method\n",
    "### AUTOENCODER"
   ]
  },
  {
   "cell_type": "code",
   "execution_count": 432,
   "id": "95567597-7c23-40d5-ab56-c5f7a262f3da",
   "metadata": {
    "tags": []
   },
   "outputs": [],
   "source": [
    "class Autoencoder(keras.models.Model):\n",
    "    def __init__(self, latent_dim, shape, activation = 'relu'):\n",
    "        super(Autoencoder, self).__init__()\n",
    "        self.latent_dim = latent_dim   \n",
    "        self.encoder = tf.keras.Sequential([layers.Dense(shape[0] / 2, activation=activation, kernel_regularizer=regularizers.l1_l2(l1=1e-5, l2=1e-4), activity_regularizer=regularizers.l2(1e-5)),\\\n",
    "                                            layers.Dropout(0.2), layers.Dense(latent_dim, activation=activation, activity_regularizer=regularizers.l2(1e-5))])\n",
    "        self.decoder = tf.keras.Sequential([layers.Dense(shape[0] / 2, activation=activation, kernel_regularizer=regularizers.l1_l2(l1=1e-5, l2=1e-4), activity_regularizer=regularizers.l2(1e-5)),\\\n",
    "                                            layers.Dropout(0.2), layers.Dense(shape[0] * shape[1])])\n",
    "\n",
    "    def call(self, x):\n",
    "        encoded = self.encoder(x)\n",
    "        decoded = self.decoder(encoded)\n",
    "        return decoded\n",
    "    \n",
    "def autoEnc(latent_dim, shape, activation = 'relu'):\n",
    "    #print(shape)\n",
    "    inputs = Input(shape[0])\n",
    "    x = layers.Dense(shape[0] / 2, activation=activation, kernel_regularizer=regularizers.l1_l2(l1=1e-5, l2=1e-4), activity_regularizer=regularizers.l2(1e-5))(inputs)\n",
    "    x = layers.Dropout(0.3)(x)\n",
    "    x = layers.Dense(latent_dim, activation=activation, activity_regularizer=regularizers.l2(1e-5))(x)\n",
    "    x = layers.Dense(shape[0] / 2, activation=activation, kernel_regularizer=regularizers.l1_l2(l1=1e-5, l2=1e-4), activity_regularizer=regularizers.l2(1e-5))(x)\n",
    "    x = layers.Dropout(0.3)(x)\n",
    "    outputs = layers.Dense(shape[0] * shape[1])(x)\n",
    "    model = Model(inputs, outputs, name=\"autoencoder\")\n",
    "    return model"
   ]
  },
  {
   "cell_type": "markdown",
   "id": "f68e4794-32d3-4d5f-b2ae-683de6e81178",
   "metadata": {
    "jp-MarkdownHeadingCollapsed": true,
    "tags": []
   },
   "source": [
    "### DENOISE"
   ]
  },
  {
   "cell_type": "code",
   "execution_count": 15,
   "id": "98a29a00-450f-4535-9511-daf096f1723d",
   "metadata": {
    "tags": []
   },
   "outputs": [],
   "source": [
    "class Denoise(keras.models.Model):\n",
    "    def __init__(self, shape):\n",
    "        super(Denoise, self).__init__()\n",
    "        self.encoder = tf.keras.Sequential([\n",
    "          layers.Input(shape=shape),\n",
    "          layers.Conv2D(16, (3, 3), activation='relu', padding='same', strides=2),\n",
    "          layers.Conv2D(8, (3, 3), activation='relu', padding='same', strides=2)])\n",
    "\n",
    "        self.decoder = tf.keras.Sequential([\n",
    "          layers.Conv2DTranspose(8, kernel_size=3, strides=2, activation='relu', padding='same'),\n",
    "          layers.Conv2DTranspose(16, kernel_size=3, strides=2, activation='relu', padding='same'),\n",
    "          layers.Conv2D(1, kernel_size=(3, 3), activation='sigmoid', padding='same')])\n",
    "\n",
    "    def call(self, x):\n",
    "        encoded = self.encoder(x)\n",
    "        decoded = self.decoder(encoded)\n",
    "        return decoded\n",
    "    "
   ]
  },
  {
   "cell_type": "markdown",
   "id": "65e91fec-3012-4736-b3cf-5598b4e85dca",
   "metadata": {
    "tags": []
   },
   "source": [
    "-------------------\n",
    "# NETWORK USERS"
   ]
  },
  {
   "cell_type": "markdown",
   "id": "a98fa4ca-9cfe-45f2-a743-b65daa3bddff",
   "metadata": {
    "tags": []
   },
   "source": [
    "-------\n",
    "### AUTOENCODING FROM DATA"
   ]
  },
  {
   "cell_type": "code",
   "execution_count": 505,
   "id": "c68691fe-8763-421f-ac6f-1a3871391510",
   "metadata": {
    "tags": []
   },
   "outputs": [],
   "source": [
    "def fileAutoencode(directory, model, latent_dim, epo, trainsize, testsize = 5,batch = 10, x = 1, y = 1, \\\n",
    "                   verbose = 2, createFiles = True, loss = 'mean_squared_error',\\\n",
    "                   activation = 'relu', savename = 'model', train = True):\n",
    "    # take the folder\n",
    "    Lx = model.Lx\n",
    "    Ly = model.Ly\n",
    "\n",
    "\n",
    "    folder = directory + kPSep + model.getDirectory() + \"greens\" + kPSep + model.getInfo() + kPSep + \"times\" + kPSep\n",
    "    files = set(os.listdir(folder))\n",
    "    # create files if necessary\n",
    "    if createFiles:  \n",
    "        for i in range(trainsize + testsize):\n",
    "            names = [filename for filename in files if filename.startswith(f\"{i}-\") and filename.endswith(\".dat\")]\n",
    "\n",
    "            if len(names) > 0:\n",
    "                readTimeDisplacedGreens(folder, model.M, names , Lx, Ly)\n",
    "    # change into the folder\n",
    "    folder = folder + \"posDiff\" + kPSep + str((x, y)) + kPSep\n",
    "    filenum = len(files)\n",
    "    data_train = []\n",
    "    data_test = []\n",
    "    counter = 0\n",
    "\n",
    "    # read files\n",
    "    for filename in filter(lambda x: x.endswith('.dat'), os.listdir(folder)):\n",
    "        tmp = pd.read_csv(folder + filename,header = None, names = ['M', 'val', 'err'], sep = '\\t')\n",
    "        if counter > filenum:\n",
    "            break\n",
    "        elif counter < trainsize: \n",
    "            data_train.append( np.array(tmp['val']))\n",
    "        elif trainsize <= counter < trainsize + testsize:\n",
    "            data_test.append( np.array(tmp['val']))\n",
    "        else:\n",
    "            break\n",
    "        counter+=1\n",
    "    \n",
    "    data_train = np.array(data_train)\n",
    "    data_test = np.array(data_test)\n",
    "\n",
    "    # make autoencoder\n",
    "    print(f'\\n\\n\\t\\tMaking autoencoder with loss={loss},activ={activation},latent={latent_dim}\\t\\t\\n\\n')\n",
    "\n",
    "    autoencoder = autoEnc(latent_dim = latent_dim, shape = (model2.M,1), activation=activation)#Autoencoder(latent_dim = latent_dim, shape = (model2.M,1), activation=activation)\n",
    "    autoencoder.compile(optimizer='rmsprop', loss=loss)\n",
    "    checkpoint_cb = keras.callbacks.ModelCheckpoint(savename + \".h5\", save_best_only=True)\n",
    "    early_stopping_cb = callbacks.EarlyStopping(monitor=\"val_loss\", patience=10)\n",
    "    history = autoencoder.fit(data_train, data_train,\n",
    "                epochs=epo,\n",
    "                shuffle=True,\n",
    "                batch_size = batch,\n",
    "                validation_data=(data_test,data_test),verbose=0, callbacks = [TqdmCallback(verbose = 1), checkpoint_cb, early_stopping_cb])\n",
    "    autoencoder.summary()\n",
    "    if train:\n",
    "        plot_history(history, path=savename+'training.png')\n",
    "        # save json\n",
    "        #print(\"creating JSON file: \" + savename + \".json\")\n",
    "        #j = autoencoder.to_json()\n",
    "        #json_file = open(savename + \".json\", 'w')\n",
    "        #json_file.write(j)\n",
    "        #json.dump(j,json_file)\n",
    "        # save h5\n",
    "        print(\"creating h5 file: \" + savename + \".h5\")\n",
    "        autoencoder.save(savename + \".h5\", save_format='h5')\n",
    "    return autoencoder"
   ]
  },
  {
   "cell_type": "markdown",
   "id": "0bf94cfe-171f-48f5-bfdf-2e8c23a32403",
   "metadata": {
    "jp-MarkdownHeadingCollapsed": true,
    "tags": []
   },
   "source": [
    "----------\n",
    "### COMPARISON WITH ORIGINAL"
   ]
  },
  {
   "cell_type": "code",
   "execution_count": 395,
   "id": "00ea8ff8-7d2b-42e6-965b-38962ae9ac09",
   "metadata": {
    "tags": []
   },
   "outputs": [],
   "source": [
    "def compareAutoencoder_Average(directory, model, latent_dim, epo, trainsize, x, y, batch = 10, load_model = False, testsize = 5, avNum = 5,\\\n",
    "                               verbose = 2, createFiles = True, loss = 'mean_squared_error', activation = 'relu', scale = False):\n",
    "    Lx = model.Lx\n",
    "    Ly = model.Ly\n",
    "    folder = directory + kPSep + model.getDirectory() + \"greens\" + kPSep + model.getInfo() + kPSep + \"times\" + kPSep\n",
    "    originalFolder = folder\n",
    "    folderComp = directory + kPSep + model.getDirectory() + \"greens\" + kPSep + model.getInfo() + kPSep + \"times\" + kPSep + \"compDiff\" + kPSep\n",
    "    savename = folder + f'myModel_loss={loss},activ={activation},latent={latent_dim},(x,y)={str((x,y))}'\n",
    "    # read comparison\n",
    "    if createFiles:\n",
    "        names = []\n",
    "        names.append(readRandomFile(folderComp,lambda x: x.startswith(\"g\") and x.endswith(\".out\"), True))\n",
    "        readTimeDisplacedGreens(folderComp, model.M + 1, names, Lx = Lx, Ly = Ly, skiprange = 35, end = '.out')\n",
    "    \n",
    "    # check if we load model or train new\n",
    "    if not load_model or (load_model and not os.path.exists(savename +\".h5\")): \n",
    "        network = fileAutoencode(directory, model, latent_dim, epo, trainsize, testsize, batch = batch, x=x ,y=y, verbose=verbose,\\\n",
    "                                 createFiles=createFiles, loss = loss, savename=savename, activation = activation, train = True)\n",
    "    else:\n",
    "        print(f'\\n\\t\\tloading model :\\n\\t{savename}.h5\\n')\n",
    "        network = keras.models.load_model(savename+\".h5\")\n",
    "    \n",
    "    folder = folder  + \"posDiff\" + kPSep + str((x, y)) + kPSep   \n",
    "    folderComp += \"posDiff\" + kPSep + str((x, y)) + kPSep\n",
    "    \n",
    "    # read one file to test\n",
    "    choice = readRandomFile(folder, dat, withoutFolder = True)\n",
    "    encodeFile = choice\n",
    "    tmp = pd.read_csv(folder + choice ,header = None, names = ['M', 'val', 'err'], index_col = 0, sep = '\\t', encoding = 'utf-8')\n",
    "    tester = tf.convert_to_tensor(tmp['val'])\n",
    "   \n",
    "    # read files to average with\n",
    "    counter = 1\n",
    "    for i in range(avNum - 1):\n",
    "        choice = readRandomFile(folder, dat, withoutFolder = True)                    \n",
    "        tmp += pd.read_csv(folder + choice,header = None, names = ['M', 'val', 'err'], index_col = 0, sep = '\\t', encoding = 'utf-8')\n",
    "        counter += 1 \n",
    "    tmp /= counter\n",
    "    \n",
    "    # comparison from USA\n",
    "    fileUsa = readRandomFile(folderComp, dat, withoutFolder = True)\n",
    "    tmp2 = pd.read_csv(folderComp + fileUsa,header = None, names = ['M', 'val', 'err'], index_col = 0, sep = '\\t')\n",
    "    images = network.predict(np.array([tester]))\n",
    "    label = \"after using the encoder on file : \" + encodeFile\n",
    "    \n",
    "    # if we need to scale up\n",
    "    if scale:\n",
    "        avTheir = np.max(tmp2['val'])\n",
    "        avMine = np.max(tmp['val'])\n",
    "        tmp['val'] = tmp['val'] * avTheir/avMine\n",
    "        images[0] = images[0] * avTheir/avMine\n",
    "        label += f'\\nThe scale is changed by scale={avTheir/avMine:.4f}'\n",
    "    # testing\n",
    "    \n",
    "    \n",
    "    plt.figure(figsize=(20,20))\n",
    "    plt.plot(images[0], label= label)\n",
    "    label = \"averaged over N = \" + str(avNum) + \" times\"\n",
    "    if avNum == 1:\n",
    "        label += f' . From file : {choice}'\n",
    "    plt.plot(tmp['val'], label = label)\n",
    "    plt.plot(tmp2['val'], label = f\"from USA.\\nFile : {fileUsa}\")\n",
    "    plt.xlim(0,model.M+1)\n",
    "    plt.xlabel('M/d$τ$')\n",
    "    plt.ylabel('G($τ$,' + str(x) + ',' + str(y) + ')')\n",
    "    plt.legend()\n",
    "    plt.savefig(f'{savename}.png', facecolor='w')\n",
    "    plt.show()\n",
    "    plt.clf()"
   ]
  },
  {
   "cell_type": "markdown",
   "id": "e36adf9b-313d-44c2-9a27-b7088ba19243",
   "metadata": {
    "jp-MarkdownHeadingCollapsed": true,
    "tags": []
   },
   "source": [
    "-------------------------------------\n",
    "# PREPARATION OF CONFIGURATIONS\n",
    "-----------------------------------"
   ]
  },
  {
   "cell_type": "code",
   "execution_count": 100,
   "id": "17737d5a-9f62-4b4e-bc33-37d862b9a3a5",
   "metadata": {
    "tags": []
   },
   "outputs": [],
   "source": [
    "def prepareSignConfigs(model,epo=4, batch=10, main_directory=\"./\", deleteFiles = False, reg = False, load_model = False, silent = False): \n",
    "    config_dir = main_directory + model.getDirectory() + \"configurations\" + kPSep\n",
    "    neg_dir = config_dir + \"negative\" + kPSep\n",
    "    pos_dir = config_dir + \"positive\" + kPSep\n",
    "    images_dir = config_dir + \"images\" + kPSep\n",
    "    # make images\n",
    "    imgFromConfig(neg_dir,images_dir + \"negative\" + kPSep, False, config_cond, deleteFiles)\n",
    "    imgFromConfig(pos_dir,images_dir + \"positive\" + kPSep, False, config_cond, deleteFiles)\n",
    "    print(\"\\tIMAGES DO EXIST NOW\")\n",
    "    shuffleToTestValidTrain(images_dir, train_size = 0.6, val_size = 0.3, classes = [\"negative\", \"positive\"], removeFolders=deleteFiles, silent= silent)\n",
    "    print(\"\\t'ND THEM SHUFFL'D\")\n",
    "    if not reg:\n",
    "        network = createModel2D_CONV(images_dir,epo=epo, batch=batch, width=model.N,height=model.M, categories=[\"negative\", \"positive\"])\n",
    "    else:\n",
    "        network = createModel2D_REG(images_dir,epo=epo, batch=batch, width=model.N,height=model.M, categories=[\"negative\", \"positive\"], load_model=  load_model, silent = silent)\n",
    "        \n",
    "    print(f'\\033[1;36m \\n\\n\\t--------------------\\tTest some random stuff\\t--------------------\\n\\n')\n",
    "    randConfig = model.makeRandomConfig()\n",
    "    print(randConfig.shape)\n",
    "    randConfig = np.array([randConfig])\n",
    "    print(network.predict(randConfig))"
   ]
  },
  {
   "cell_type": "markdown",
   "id": "6f287451-2f9d-4384-9664-ded41797db8d",
   "metadata": {
    "jp-MarkdownHeadingCollapsed": true,
    "tags": []
   },
   "source": [
    "---------------------\n",
    "# GREEN FUNCTIONS\n",
    "---------------------"
   ]
  },
  {
   "cell_type": "markdown",
   "id": "3cacc273-c2af-4772-9a66-f791fa714401",
   "metadata": {
    "tags": []
   },
   "source": [
    "### READ UNEQUAL TIME GREENS\n",
    "\n",
    "-------------\n",
    "\n",
    "\n",
    "The function below allows the user to read the file that is saved in a triangular form starting (0,0) -> (Lx/2, 0) -> (1,1) -> (Lx/2, 1) -> (Lx/2, Ly/2) and each point has all the times printed as well $\\tau \\in \\{0,...,M-1\\}$ "
   ]
  },
  {
   "cell_type": "code",
   "execution_count": 216,
   "id": "84ae7b69-51b3-47f0-a286-377d0ff6503e",
   "metadata": {
    "tags": []
   },
   "outputs": [],
   "source": [
    "cond_down = lambda x : \"downgreens\" in x\n",
    "cond_up = lambda x : \"upgreens\" in x\n",
    "    \n",
    "def parseG_elems(line, val_place = 2, err_place = 5):\n",
    "    positions = \"G(nx,ny,ti)\"\n",
    "    momenta = 'G(qx,qy,ti)'\n",
    "    # looking if a given line starts with position Green\n",
    "    #print(line)\n",
    "    if line.lstrip().startswith(positions):\n",
    "        return ('0', 0 ,0)\n",
    "    elif line.lstrip().startswith(momenta):\n",
    "        return ('-1', 0 ,0)\n",
    "    # else we know there is data\n",
    "    elif line.lstrip().startswith('nx'):\n",
    "        tmp = line.split()\n",
    "        # providing next line as the positions are specified in it\n",
    "        # in my data [1] and [3]\n",
    "        # in usa data [2] and [5]\n",
    "        val = tmp[int(float(val_place))]\n",
    "        err = tmp[int(float(err_place))]\n",
    "        #print(val,err)\n",
    "        return (\"r\",int(val),int(err))\n",
    "    else:\n",
    "        tmp = line.split()\n",
    "        # return $\\tau$, x, y\n",
    "        return (int(tmp[0]), float(tmp[1]), float(tmp[3]))\n",
    "    "
   ]
  },
  {
   "cell_type": "code",
   "execution_count": 251,
   "id": "e8a1a39a-e473-45f6-b60c-c14c9f212735",
   "metadata": {
    "tags": []
   },
   "outputs": [],
   "source": [
    "def readTimeDisplacedGreens(directory, M, names, Lx = 1, Ly = 1, skiprange = 35, end = '.dat'):\n",
    "    pos_df = pd.DataFrame()\n",
    "    pos_err_df =  pd.DataFrame()\n",
    "    neg_df =  pd.DataFrame()\n",
    "    neg_err_df =  pd.DataFrame()\n",
    "    \n",
    "    fun = parseG_elems\n",
    "    \n",
    "    # create directories for each position difference\n",
    "    posDir = directory + \"posDiff\"\n",
    "    createFolder([posDir])\n",
    "    for i in range(int(Lx/2) + 1):\n",
    "        for j in range(i, int(Ly/2) + 1):\n",
    "            createFolder([posDir + kPSep + str((i,j))])\n",
    "            \n",
    "    for filename in names:\n",
    "        val_place = 2.0\n",
    "        err_place = 5.0\n",
    "        with open(directory + filename, 'r') as f:\n",
    "            # skip header\n",
    "            for _ in range(skiprange):\n",
    "                next(f)\n",
    "            # read lines\n",
    "            #print(directory + filename)\n",
    "            for line in f:\n",
    "                (dec,x,y) = parseG_elems(line, val_place, err_place)\n",
    "                if dec == 'r':\n",
    "                    tmp_col = (x,y)\n",
    "                    tmp_arr = []\n",
    "                    tmp_arr_err = []\n",
    "                    \n",
    "                    # open file to write\n",
    "                    path = posDir + kPSep + str(tmp_col) + kPSep + filename.split(\"_\")[0] + '.dat'\n",
    "                    \n",
    "                    # check if file already exists\n",
    "                    if os.path.exists(path) and os.path.getsize(path) > 0:\n",
    "                        for i in range(M):\n",
    "                            next(f)\n",
    "                    else: \n",
    "                        with open(os.path.abspath(path), \"w+\") as writeF:\n",
    "                            # save all the times\n",
    "                            for i in range(M):\n",
    "                                (tau, val, err) = parseG_elems(next(f), val_place, err_place)\n",
    "                                # write to file\n",
    "                                writeF.write(f'{tau}\\t{val}\\t{err}\\n')\n",
    "                                tmp_arr.append(val)\n",
    "                                tmp_arr_err.append(err)\n",
    "                            # save the dataframe\n",
    "                            if \"up\" in filename:\n",
    "                                pos_df[str(tmp_col)] = np.array(tmp_arr)\n",
    "                                pos_err_df[str(tmp_col)] = np.array(tmp_arr_err)\n",
    "                            else:\n",
    "                                neg_df[str(tmp_col)] = np.array(tmp_arr)\n",
    "                                neg_err_df[str(tmp_col)] = np.array(tmp_arr_err)\n",
    "                        writeF.close()\n",
    "                elif dec == '0':\n",
    "                    continue\n",
    "                # the file is not standardly parsed ;c\n",
    "                elif dec == '-1':\n",
    "                #print finished positions\n",
    "                    break\n",
    "                else:\n",
    "                    print(\"BADLY PARSED FILE, skip it!\")\n",
    "                    break\n",
    "                \n",
    "        f.close()\n",
    "    return (pos_df, pos_err_df, neg_df, neg_err_df)"
   ]
  },
  {
   "cell_type": "markdown",
   "id": "47983e2b-6ca7-4fe7-a959-92c8ece18ce0",
   "metadata": {
    "jp-MarkdownHeadingCollapsed": true,
    "tags": []
   },
   "source": [
    "------------------------\n",
    "### GREEN FOURIER TRANSFORM"
   ]
  },
  {
   "cell_type": "code",
   "execution_count": 152,
   "id": "47b52607-41bf-41eb-804c-6bc13a6ff494",
   "metadata": {},
   "outputs": [],
   "source": [
    "def greenFourierTransform(directory, M, dataframes, names, Lx = 1, Ly = 1, skiprange = 35):\n",
    "    createFolder(directory + 'momenta' + kPSep, silent=True)\n",
    "    negFile = open(directory + 'momenta' + kPSep + names[0], \"w\")\n",
    "    posFile = open(directory + 'momenta' + kPSep + names[1], 'w')\n",
    "    (pos_df, pos_err_df, neg_df, neg_err_df) = dataframes\n",
    "\n",
    "    kxStep = TWOPI / Lx\n",
    "    kyStep = TWOPI / Ly\n",
    "    for i in range(Lx/2 + 1):\n",
    "        kx = i * kxStep\n",
    "        for j in range(Ly/2 + 1):\n",
    "            ky = j * kyStep\n",
    "            justPrinter(posFile, \"\\t\", [f' G(qx,qy,ti): (qx,\\tkx) =', f'{i},\\t{kx:.3f}', 'f(qy,\\tky) =', f'{j},\\t{ky:3f}'], width=10)\n",
    "            justPrinter(negFile, \"\\t\", [f' G(qx,qy,ti): (qx,\\tkx) =', f'{i},\\t{kx:.3f}', 'f(qy,\\tky) =', f'{j},\\t{ky:3f}'], width=10)\n",
    "            for yy in range(-Ly + 1, Ly):\n",
    "                yelem = abs(yy) % (Ly / 2 + 1)\n",
    "                for xx in range(-Lx + 1, Lx):\n",
    "                    xelem = abs(xx) % (Lx / 2 + 1)\n",
    "                    # make exponent\n",
    "                    expa = math.exp(1j * (kx * xx + ky * yy))\n",
    "\n",
    "                    col = str((xelem, yelem))\n",
    "                    ups = pos_df[col]\n",
    "                    down = neg_df[col]\n",
    "                    ups_er = pos_err_df[col]\n",
    "                    downs_er = neg_err_df[col]\n",
    "\n",
    "                    # tmp vars\n",
    "                    tmp_up = [i*0 for i in range(M)]\n",
    "                    tmp_down = tmp_up\n",
    "                    sd_tmp_up = tmp_up\n",
    "                    sd_tmp_down = tmp_up\n",
    "                    for tau1 in range(M):\n",
    "                        elem_up = expa * ups[tau1]\n",
    "                        elem_down = expa * down[tau1]\n",
    "                        tmp_up[tau1] += elem_up;\n",
    "                        tmp_down[tau1] += elem_down;\n",
    "                        # stdev\n",
    "                        elem_up = expa * ups_er[tau1]\n",
    "                        elem_down = expa * downs_er[tau1]\n",
    "                        sd_tmp_up[tau1] += elem_up * elem_up\n",
    "                        sd_tmp_down[tau1] += elem_down * elem_down\n",
    "        # save files\n",
    "        for tau1 in range(M):\n",
    "            justPrinter(posFile, \"\\t\", [tau1], 4, false)\n",
    "            elem_up = tmp_up[tau1].real\n",
    "            justPrinter(posFile, \"\\t\", [f'{elem_up:.8f}'], 8 + 5, false)\n",
    "            justPrinter(posFile, \"\\t\", [\"+-\"], 5, false)\n",
    "            elem_up = math.sqrt(abs(sd_tmp_up[tau1].real)) / TWOPI\n",
    "            justPrinter(posFile, \"\\t\", [f'{elem_up:.8f}'], 8 + 5, false)\n",
    "\n",
    "            justPrinter(negFile, \"\\t\", [tau1], 4, false)\n",
    "            elem_up = tmp_down[tau1].real\n",
    "            justPrinter(negFile, \"\\t\", [f'{elem_down:.8f}'], 8 + 5, false)\n",
    "            justPrinter(negFile, \"\\t\", [\"+-\"], 5, false)\n",
    "            elem_up = math.sqrt(abs(sd_tmp_down[tau1].real)) / TWOPI\n",
    "            justPrinter(negFile, \"\\t\", [f'{elem_down:.8f}'], 8 + 5, false)\n",
    "            \n",
    "    negFile.close()\n",
    "    posFile.close()"
   ]
  },
  {
   "cell_type": "markdown",
   "id": "b178e768-adc8-4fa1-acb7-8955957f283b",
   "metadata": {
    "tags": []
   },
   "source": [
    "---------\n",
    "# TESTERS\n",
    "------------"
   ]
  },
  {
   "cell_type": "markdown",
   "id": "fbf4ce37-a6d1-4fb5-93e6-8fc3364dbb25",
   "metadata": {},
   "source": [
    "## CREATE MODEL"
   ]
  },
  {
   "cell_type": "code",
   "execution_count": 80,
   "id": "2d730736-1c7f-4893-975b-53f0f410c5c1",
   "metadata": {},
   "outputs": [
    {
     "data": {
      "text/plain": [
       "(64, 160, 1)"
      ]
     },
     "execution_count": 80,
     "metadata": {},
     "output_type": "execute_result"
    }
   ],
   "source": [
    "U = 4\n",
    "Lx = 8\n",
    "Ly = 8\n",
    "mu = -1\n",
    "beta = 8\n",
    "lattice = \"square\"\n",
    "# --- \n",
    "M = 160\n",
    "M_0 = 8\n",
    "\n",
    "\n",
    "model = HubbardDQMC(M, M_0, U, mu, beta, lattice, Lx, Ly)\n",
    "model2 = HubbardDQMC(40, 4, 8.00, 0.00, 2.00, lattice, Lx, Ly)\n",
    "model.getInfo()\n",
    "model.makeRandomConfig().shape"
   ]
  },
  {
   "cell_type": "markdown",
   "id": "5fde2209-90c1-498e-97e7-0b8dcbfffc7d",
   "metadata": {},
   "source": [
    "--------------\n",
    "## SIGNS NN "
   ]
  },
  {
   "cell_type": "code",
   "execution_count": null,
   "id": "3678eb50-64f1-47f1-9460-bce88e9371d3",
   "metadata": {},
   "outputs": [],
   "source": [
    "#prepareSignConfigs(model,epo=50, batch=15, main_directory=resultsFolder + kPSep, deleteFiles=True, reg = True, load_model= False , silent = True)"
   ]
  },
  {
   "cell_type": "markdown",
   "id": "a838c0a5-1eac-4071-9c91-82de4a3016a5",
   "metadata": {
    "tags": []
   },
   "source": [
    "---------------------\n",
    "## AUTOENCODER"
   ]
  },
  {
   "cell_type": "code",
   "execution_count": 524,
   "id": "ef3a1b3f-c689-42f8-ab9c-32e4d7232f6c",
   "metadata": {
    "tags": []
   },
   "outputs": [
    {
     "name": "stdout",
     "output_type": "stream",
     "text": [
      "\n",
      "\t\tloading model :\n",
      "\tD:\\Uni\\SEMESTERS\\PRACE\\CONDENSED_GROUP_CLOUD_UNI\\DQMC\\DQMC\\results\\square\\2D\\Lx=8,Ly=8,Lz=1\\greens\\M=40,M0=4,dtau=0.05,Lx=8,Ly=8,Lz=1,beta=2.00,U=8.00,mu=0.00\\times\\myModel_loss=huber,activ=relu,latent=2,(x,y)=(1, 1).h5\n",
      "\n",
      "WARNING:tensorflow:11 out of the last 11 calls to <function Model.make_predict_function.<locals>.predict_function at 0x000001DC288FFAF0> triggered tf.function retracing. Tracing is expensive and the excessive number of tracings could be due to (1) creating @tf.function repeatedly in a loop, (2) passing tensors with different shapes, (3) passing Python objects instead of tensors. For (1), please define your @tf.function outside of the loop. For (2), @tf.function has experimental_relax_shapes=True option that relaxes argument shapes that can avoid unnecessary retracing. For (3), please refer to https://www.tensorflow.org/guide/function#controlling_retracing and https://www.tensorflow.org/api_docs/python/tf/function for  more details.\n"
     ]
    },
    {
     "data": {
      "image/png": "[encoded data removed]",
      "text/plain": [
       "<Figure size 1440x1440 with 1 Axes>"
      ]
     },
     "metadata": {
      "needs_background": "light"
     },
     "output_type": "display_data"
    },
    {
     "data": {
      "text/plain": [
       "<Figure size 432x288 with 0 Axes>"
      ]
     },
     "metadata": {},
     "output_type": "display_data"
    }
   ],
   "source": [
    "\n",
    "compareAutoencoder_Average(resultsFolder, model = model2, load_model = True, latent_dim = 2,\\\n",
    "                           epo = 300, batch = 20, trainsize = 300,\\\n",
    "                           testsize = 40, avNum = 20, x = 1, y = 1, verbose = 1,\\\n",
    "                           createFiles=False, loss = 'huber',\\\n",
    "                           activation = 'relu', scale = False)\n"
   ]
  },
  {
   "cell_type": "markdown",
   "id": "1fb7d3b7-845f-460b-bd63-635d2db4947d",
   "metadata": {},
   "source": []
  },
  {
   "cell_type": "code",
   "execution_count": null,
   "id": "581ccbf6-aebb-47b8-9595-30e98a51b0b9",
   "metadata": {},
   "outputs": [],
   "source": [
    "\n"
   ]
  },
  {
   "cell_type": "code",
   "execution_count": null,
   "id": "29cbe491-8a68-4e2b-ad0e-b73fbe79620c",
   "metadata": {},
   "outputs": [],
   "source": []
  },
  {
   "cell_type": "code",
   "execution_count": null,
   "id": "02887a49-7ce8-4280-9c47-6f8339664714",
   "metadata": {},
   "outputs": [],
   "source": []
  },
  {
   "cell_type": "code",
   "execution_count": null,
   "id": "86c94d60-1267-4e79-9eb0-96620247ebbf",
   "metadata": {},
   "outputs": [],
   "source": []
  },
  {
   "cell_type": "code",
   "execution_count": null,
   "id": "31953799-8f43-4b05-910d-c6785f71f1d1",
   "metadata": {},
   "outputs": [],
   "source": []
  },
  {
   "cell_type": "code",
   "execution_count": null,
   "id": "f345c6f4-3463-48bd-97aa-30adde69c92b",
   "metadata": {},
   "outputs": [],
   "source": []
  },
  {
   "cell_type": "code",
   "execution_count": null,
   "id": "3cf74c4c-6e6b-4e51-a9ec-28d05cb4bd45",
   "metadata": {},
   "outputs": [],
   "source": []
  },
  {
   "cell_type": "code",
   "execution_count": null,
   "id": "548c1f57-57dd-4708-86cc-d6b41455cad2",
   "metadata": {},
   "outputs": [],
   "source": []
  },
  {
   "cell_type": "code",
   "execution_count": null,
   "id": "cb3bcd04-0425-4630-bd10-3afe72a8aec1",
   "metadata": {},
   "outputs": [],
   "source": []
  },
  {
   "cell_type": "code",
   "execution_count": null,
   "id": "514f61c0-75eb-4281-9831-e73e01ab657d",
   "metadata": {},
   "outputs": [],
   "source": []
  }
 ],
 "metadata": {
  "kernelspec": {
   "display_name": "Python 3 (ipykernel)",
   "language": "python",
   "name": "python3"
  },
  "language_info": {
   "codemirror_mode": {
    "name": "ipython",
    "version": 3
   },
   "file_extension": ".py",
   "mimetype": "text/x-python",
   "name": "python",
   "nbconvert_exporter": "python",
   "pygments_lexer": "ipython3",
   "version": "3.8.12"
  }
 },
 "nbformat": 4,
 "nbformat_minor": 5
}
